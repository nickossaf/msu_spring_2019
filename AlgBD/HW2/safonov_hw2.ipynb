{
 "cells": [
  {
   "cell_type": "markdown",
   "metadata": {},
   "source": [
    "# Алгоритмы интеллектуальной обработки больших объемов данных\n",
    "## Домашнее задание №3: Линейные модели\n"
   ]
  },
  {
   "cell_type": "markdown",
   "metadata": {},
   "source": [
    "###### <hr\\>\n",
    "**Общая информация**\n",
    "\n",
    "**Срок сдачи:** 8 апреля 2019, 06:00 <br\\>\n",
    "**Штраф за опоздание:** -2 балла после 06:00 8 апреля, -4 балла после 06:00 15 апреля, -6 баллов после 06:00 22 апреля  -8 баллов после 06:00 29 апреля.\n",
    "\n",
    "При отправлении ДЗ указывайте фамилию в названии файла<br\\>\n",
    "\n",
    "Используйте данный Ipython Notebook при оформлении домашнего задания.\n",
    "\n",
    "**Штрафные баллы:**\n",
    "\n",
    "1. Невыполнение PEP8 -1 балл\n",
    "2. Отсутствие фамилии в имени скрипта (скрипт должен называться по аналогии со stroykova_hw2.ipynb) -1 балл\n",
    "3. Все строчки должны быть выполнены. Нужно, чтобы output команды можно было увидеть уже в git'е. В противном случае -1 балл\n",
    "4. При оформлении ДЗ нужно пользоваться данным файлом в качестве шаблона. Не нужно удалять и видоизменять написанный код и текст, если явно не указана такая возможность. В противном случае -1 балл\n",
    "<hr\\>"
   ]
  },
  {
   "cell_type": "code",
   "execution_count": 838,
   "metadata": {},
   "outputs": [],
   "source": [
    "import pandas as pd\n",
    "import numpy as np\n",
    "import matplotlib.pyplot as plt\n",
    "\n",
    "%matplotlib inline\n",
    "\n",
    "plt.style.use('ggplot')\n",
    "plt.rcParams['figure.figsize'] = (12,5)"
   ]
  },
  {
   "cell_type": "markdown",
   "metadata": {},
   "source": [
    "Здравствуйте, уважаемые студенты! \n",
    "\n",
    "В этом задании мы будем реализовать линейные модели. Необходимо реализовать линейную и логистическую регрессии с L2 регуляризацией"
   ]
  },
  {
   "cell_type": "markdown",
   "metadata": {},
   "source": [
    "# Теоретическое введение\n",
    "\n"
   ]
  },
  {
   "cell_type": "markdown",
   "metadata": {},
   "source": [
    "*** Что почитать по теории ***\n",
    "\n",
    "Одна из лучших книг по ML $-$ \"Pattern Recognition and Machine Learning\" Bishop, Christopher. "
   ]
  },
  {
   "cell_type": "markdown",
   "metadata": {},
   "source": [
    "Линейная регрессия решает задачу регрессии и оптимизирует функцию потерь MSE \n",
    "\n",
    "$$L(w) =  \\frac{1}{N}\\left[\\sum_i (y_i - a_i) ^ 2 \\right], $$ где $y_i$ $-$ целевая функция,  $a_i = a(x_i) =  \\langle\\,x_i,w\\rangle ,$ $-$ предсказание алгоритма на объекте $x_i$, $w$ $-$ вектор весов (размерности $D$), $x_i$ $-$ вектор признаков (такой же размерности $D$).\n"
   ]
  },
  {
   "cell_type": "markdown",
   "metadata": {},
   "source": [
    "Логистическая регрессия является линейным классификатором, который оптимизирует так называемый функционал log loss:"
   ]
  },
  {
   "cell_type": "markdown",
   "metadata": {},
   "source": [
    "$$L(w) = - \\frac{1}{N}\\left[\\sum_i y_i \\log a_i + ( 1 - y_i) \\log (1 - a_i) \\right],$$\n",
    "где  $y_i  \\in \\{0,1\\}$ $-$ метка класса, $a_i$ $-$ предсказание алгоритма на объекте $x_i$. Модель пытается предсказать апостериорую вероятность объекта принадлежать к классу \"1\":\n",
    "$$ p(y_i = 1 | x_i) = a(x_i) =  \\sigma( \\langle\\,x_i,w\\rangle ),$$\n",
    "$w$ $-$ вектор весов (размерности $D$), $x_i$ $-$ вектор признаков (такой же размерности $D$).\n",
    "\n",
    "Функция $\\sigma(x)$ $-$ нелинейная функция, пероводящее скалярное произведение объекта на веса в число $\\in (0,1)$ (мы же моделируем вероятность все-таки!)\n",
    "\n",
    "$$\\sigma(x) = \\frac{1}{1 + \\exp(-x)}$$\n",
    "\n",
    "Если внимательно посмотреть на функцию потерь, то можно заметить, что в зависимости от правильного ответа алгоритм штрафуется или функцией $-\\log a_i$, или функцией $-\\log (1 - a_i)$.\n",
    "\n"
   ]
  },
  {
   "cell_type": "markdown",
   "metadata": {},
   "source": [
    "Часто для решения проблем, которые так или иначе связаны с проблемой переобучения, в функционал качества добавляют слагаемое, которое называют ***регуляризацией***. Итоговый функционал для линейной регрессии тогда принимает вид:\n",
    "\n",
    "$$L(w) =  \\frac{1}{N}\\left[\\sum_i (y_i - a_i) ^ 2 \\right] + \\frac{1}{C}R(w) $$\n",
    "\n",
    "Для логистической: \n",
    "$$L(w) = - \\frac{1}{N}\\left[\\sum_i y_i \\log a_i + ( 1 - y_i) \\log (1 - a_i) \\right] +  \\frac{1}{C}R(w)$$\n",
    "\n",
    "Самое понятие регуляризации введено основателем ВМК академиком Тихоновым https://ru.wikipedia.org/wiki/Метод_регуляризации_Тихонова\n",
    "\n",
    "Идейно методика регуляризации заключается в следующем $-$ мы рассматриваем некорректно поставленную задачу (что это такое можно найти в интернете), для того чтобы сузить набор различных вариантов (лучшие из которых будут являться переобучением ) мы вводим дополнительные ограничения на множество искомых решений. На лекции Вы уже рассмотрели два варианта регуляризации.\n",
    "\n",
    "$L1$ регуляризация:\n",
    "$$R(w) = \\sum_{j=1}^{D}|w_j|$$\n",
    "$L2$ регуляризация:\n",
    "$$R(w) =  \\sum_{j=1}^{D}w_j^2$$\n",
    "\n",
    "С их помощью мы ограничиваем модель в  возможности выбора каких угодно весов минимизирующих наш лосс, модель уже не сможет подстроиться под данные как ей угодно. \n",
    "\n",
    "Вам нужно добавить соотвествущую Вашему варианту $L2$ регуляризацию.\n",
    "\n",
    "И так, мы поняли, какую функцию ошибки будем минимизировать, разобрались, как получить предсказания по объекту и обученным весам. Осталось разобраться, как получить оптимальные веса. Для этого нужно выбрать какой-то метод оптимизации.\n",
    "\n"
   ]
  },
  {
   "cell_type": "markdown",
   "metadata": {},
   "source": [
    "Градиентный спуск является самым популярным алгоритмом обучения линейных моделей. В этом задании Вам предложат реализовать стохастический градиентный спуск или  мини-батч градиентный спуск (мини-батч на русский язык довольно сложно перевести, многие переводят это как \"пакетный\", но мне не кажется этот перевод удачным). Далее нам потребуется определение **эпохи**.\n",
    "Эпохой в SGD и MB-GD называется один проход по **всем** объектам в обучающей выборки.\n",
    "* В SGD градиент расчитывается по одному случайному объекту. Сам алгоритм выглядит примерно так:\n",
    "        1) Перемешать выборку\n",
    "        2) Посчитать градиент функции потерь на одном объекте (далее один объект тоже будем называть батчем)\n",
    "        3) Сделать шаг спуска\n",
    "        4) Повторять 2) и 3) пока не пройдет максимальное число эпох.\n",
    "* В Mini Batch SGD - по подвыборке объектов. Сам алгоритм выглядит примерно так::\n",
    "        1) Перемешать выборку, выбрать размер мини-батча (от 1 до размера выборки)\n",
    "        2) Почитать градиент функции потерь по мини-батчу (не забыть поделить на  число объектов в мини-батче)\n",
    "        3) Сделать шаг спуска\n",
    "        4) Повторять 2) и 3) пока не пройдет максимальное число эпох.\n",
    "* Для отладки алгоритма реализуйте возможность  вывода средней ошибки на обучении модели по объектам (мини-батчам). После шага градиентного спуска посчитайте значение ошибки на объекте (или мини-батче), а затем усредните, например, по ста шагам. Если обучение проходит корректно, то мы должны увидеть, что каждые 100 шагов функция потерь уменьшается. \n",
    "* Правило останова - максимальное количество эпох\n",
    "    \n"
   ]
  },
  {
   "cell_type": "markdown",
   "metadata": {},
   "source": [
    "# Теоретические вопросы (2 балла)\n",
    "В этой части Вам будут предложены теоретичские вопросы и задачи по теме. Вы, конечно, можете списать их у своего товарища или найти решение в интернете, но учтите, что они обязательно войдут в теоретический коллоквиум. Лучше разобраться в теме сейчас и успешно ответить на коллоквиуме, чем списать, не разобравшись в материале, и быть терзаемым совестью. \n",
    "\n",
    "\n",
    "Формулы надо оформлять в формате **LaTeX**."
   ]
  },
  {
   "cell_type": "markdown",
   "metadata": {},
   "source": [
    "Задача 1. Градиент для линейной регрессии.\n",
    "* Выпишите формулу обновления весов для линейной регрессии с L2 регуляризацией для мини-батч градиентого спуска размера $n$:\n",
    "\n",
    "$$ w_{new} = w_{old} - ... $$\n",
    "\n",
    " Отнеситесь к этому пункту максимально серьезно, это Вам нужно будет реализовать в задании.\n",
    " \n",
    "Проанализруйте итоговую формулу градиента - как  интуитивно можно  описать, чему равен градиент?"
   ]
  },
  {
   "cell_type": "markdown",
   "metadata": {},
   "source": [
    "***Ваше решение здесь***\n",
    "$$L(w) =  \\frac{1}{N}\\left[\\sum_i (y_i - a_i) ^ 2 \\right] + \\frac{1}{C}R(w) $$\n",
    "\n",
    "$$Q(w) =  \\frac{1}{N}\\left[\\sum_i (y_i - a_i) ^ 2 \\right] $$\n",
    "\n",
    "\n",
    "$$ w_{new} = w_{old} - \\alpha\\bigtriangledown L(w) $$\n",
    "\n",
    "$$ w_{new} = w_{old} - \\alpha(\\bigtriangledown Q(w) +\\frac{1}{C}2w_{old})$$\n",
    "\n",
    "$$ w_{new} = w_{old}(1 - \\frac{2\\alpha}{C}) - \\alpha \\frac{2}{N} \\sum_i x_i (x_i w - y_i)  $$"
   ]
  },
  {
   "cell_type": "markdown",
   "metadata": {},
   "source": [
    "Задача 2. Градиент для логистической регрессии.\n",
    "* Выпишите формулу обновления весов для логистической регрессии с L2 регуляризацией  для мини-батч градиентого спуска размера $n$:\n",
    "\n",
    "$$ w_{new} = w_{old} - ... $$\n",
    "\n",
    " Отнеситесь к этому пункту максимально серьезно, это Вам нужно будет реализовать в задании.\n",
    " \n",
    "Проанализруйте итоговую формулу градиента - как  интуитивно можно  описать, чему равен градиент? Как соотносится этот градиент с градиентом, возникающий в задаче линейной регрессии?"
   ]
  },
  {
   "cell_type": "markdown",
   "metadata": {},
   "source": [
    "***Ваше решение здесь***\n",
    "\n",
    "Аналогично предыдущему пункту:\n",
    "\n",
    "$$L(w) =  \\frac{1}{N}\\left[\\sum_i \\log (1 + e^{-XwY}) \\right] + \\frac{1}{C}R(w) $$\n",
    "\n",
    "$$Q(w) =  \\frac{1}{N}\\left[\\sum_i \\log (1 + e^{-XwY}) \\right] $$\n",
    "\n",
    "\n",
    "$$ w_{new} = w_{old} - \\alpha\\bigtriangledown L(w) $$\n",
    "\n",
    "$$ w_{new} = w_{old} - \\alpha(\\bigtriangledown Q(w) - \\frac{1}{C}2w_{old})$$\n",
    "\n",
    "$$ w_{new} = w_{old}(1 - \\frac{2\\alpha}{C}) - \\alpha\\bigtriangledown Q(w) $$\n",
    "\n",
    "$$ w_{new} = w_{old}(1 - \\frac{2\\alpha}{C}) - \\alpha \\frac{1}{N} \\sum_i x_i( \\sigma (x_i w) - y_i) $$"
   ]
  },
  {
   "cell_type": "markdown",
   "metadata": {},
   "source": [
    "Задача 3. Точное решение линейной регрессии\n",
    "\n",
    "На лекции было показано, что точное решение линейной регрессии имеет вид $w = (X^TX)^{-1}X^TY $. \n",
    "* Покажите, что это действительно является точкой минимума в случае, если матрица X имеет строк не меньше, чем столбцов и имеет полный ранг. Подсказка: посчитайте Гессиан и покажите, что в этом случае он положительно определен. \n",
    "* Выпишите точное решение для модели с $L2$ регуляризацией"
   ]
  },
  {
   "cell_type": "markdown",
   "metadata": {},
   "source": [
    "***Ваше решение здесь***\n",
    "\n",
    "==============================================================================================================\n",
    "На занятии мы убедились, что при $w = (X^TX)^{-1}X^TY $ градиент равняется нулю, но это может означать как то, что мы нашли точку минимума, так и то, что мы нашли точку максимума, для того чтобы показать, что мы действительно нашли минимум необходимо найти направление выпуклости функции, для чего следует найти ее вторую производную Гессиан и показать, что он положительно определен.  \n",
    "\n",
    "$$L(w) =  \\frac{1}{N}(Xw - Y)(Xw - Y)^T$$\n",
    "По показанному на занятии:\n",
    "$$\\bigtriangledown L(w) = 2X^TXw - 2X^TY$$\n",
    "Тогда:\n",
    "$$H(L) = 2X^TX$$ \n",
    "Получилась матрица n на n, где n число переменных(число столбцов), также эта матрица эрмитова т.к. матрицы вещественные:\n",
    "$$(2X^TX)^T = 2X^TX$$\n",
    "Также матрица имеет полный ранг и раз число строк не меньше числа столбцов этот ранг равен n, и значит матрица A инъективна и значит положительноопределена.\n",
    "\n",
    "==================================================================================================================\n",
    "\n",
    "$$L(w) =  \\frac{1}{N}\\left[\\sum_i (y_i - a_i) ^ 2 \\right] + \\frac{1}{C}R(w) $$\n",
    "\n",
    "$$Q(w) =  \\frac{1}{N}\\left[\\sum_i (y_i - a_i) ^ 2 \\right] $$\n",
    "\n",
    "$$\\bigtriangledown L(w) =  \\bigtriangledown Q(w) + \\bigtriangledown(\\frac{1}{C}R(w)) $$\n",
    "\n",
    "$$\\bigtriangledown L(w) =  \\bigtriangledown Q(w) + \\bigtriangledown(\\frac{1}{C}w^Tw) $$\n",
    "\n",
    "$$\\bigtriangledown L(w) = 2X^TXw - 2X^TY + \\frac{1}{C}w$$"
   ]
  },
  {
   "cell_type": "markdown",
   "metadata": {},
   "source": [
    "Задача 4.  Предсказываем вероятности.\n",
    "\n",
    "Когда говорят о логистической регрессии, произносят фразу, что она \"предсказывает вероятности положительного класса\". Давайте разберемся, что же за этим стоит. Посчитаем математическое ожидание функции потерь и проверим, что предсказание алгоритма, оптимизирующее это мат. ожидание, будет являться вероятностью положительного класса. \n",
    "\n",
    "И так, функция потерь на объекте $x_i$, который имеет метку $y_i \\in \\{0,1\\}$  для предсказания $a(x_i)$ равна:\n",
    "$$L(y_i, b) =-[y_i == 1] \\log a(x_i)  - [y_i == 0] \\log(1 - a(x_i)) $$\n",
    "\n",
    "Где $[]$ означает индикатор $-$ он равен единице, если значение внутри него истинно, иначе он равен нулю. Тогда мат. ожидание при условии конкретного $x_i$  по определение мат. ожидания дискретной случайной величины:\n",
    "$$E(L | x_i) = -p(y_i = 1 |x_i ) \\log a(x_i)  - p(y_i = 0 | x_i) \\log( 1 - a(x_i))$$\n",
    "* Докажите, что значение $a(x_i)$, минимизирующее данное мат. ожидание, в точности равно $p(y_i = 1 |x_i)$, то есть равно вероятности положительного класса.\n",
    "\n",
    "Подсказка: возможно, придется воспользоваться, что  $p(y_i = 1 | x_i) + p(y_i = 0 | x_i) = 1$"
   ]
  },
  {
   "cell_type": "markdown",
   "metadata": {},
   "source": [
    "***Ваше решение здесь***\n",
    "\n",
    "$$E(L | x_i) = -p(y_i = 1 |x_i ) \\log a(x_i)  - p(y_i = 0 | x_i) \\log( 1 - a(x_i))$$\n",
    "\n",
    "$$p(y_i = 1 | x_i) + p(y_i = 0 | x_i) = 1 => p(y_i = 0 | x_i) = 1 - p(y_i = 1 | x_i)$$ \n",
    "\n",
    "$$E(L | x_i) = -p(y_i = 1 |x_i ) \\log a(x_i)  - (1 - p(y_i = 1 | x_i)) \\log( 1 - a(x_i))$$\n",
    "\n",
    "$$ p = p(y_i = 1 |x_i ) и a = a(x_i)$$\n",
    "\n",
    "$$E(L | x_i) = p \\log( \\frac{1 - a}{a}) - \\log( 1 - a)$$\n",
    "\n",
    "$$ \\frac{\\partial E(L | x_i)}{\\partial a} = -\\frac{p - a}{(1 - a)a}$$\n",
    "\n",
    "Данное выражение оьращается в ноль при $a(x_i) = p(y_i = 1 |x_i )$ значит эта точка является точкой экстренума при этом при $a < p$ выражение $-\\frac{p - a}{(1 - a)a} < 0$, т.к. $a < 1, a > 0$(необходимое условие существования логарифмов $\\log( 1 - a)$ и $\\log(a)$), а при $a > p$ выражение $-\\frac{p - a}{(1 - a)a} > 0$. Значит минимум достигается в точке $a = p(y_i = 1 |x_i )$    ч.т.д."
   ]
  },
  {
   "cell_type": "markdown",
   "metadata": {},
   "source": [
    "#  Реализация линейной модели (5 баллов)"
   ]
  },
  {
   "cell_type": "markdown",
   "metadata": {},
   "source": [
    "## Зачем нужны батчи?\n"
   ]
  },
  {
   "cell_type": "markdown",
   "metadata": {},
   "source": [
    "Как Вы могли заметить из теоретического введения, что в случае SGD, что в случа mini-batch GD,  на каждой итерации обновление весов  происходит только по небольшой части данных (1 пример в случае SGD, batch примеров в случае mini-batch). То есть для каждой итерации нам *** не нужна вся выборка***. Мы можем просто итерироваться по выборке, беря батч нужного размера (далее 1 объект тоже будем называть батчом).\n",
    "\n",
    "Легко заметить, что в этом случае нам не нужно загружать все данные в оперативную память, достаточно просто считать батч с диска, обновить веса, считать диска другой батч и так далее. В целях упрощения домашней работы, прямо с диска  мы считывать не будем, будем работать с обычными numpy array. \n",
    "\n",
    "\n",
    "\n"
   ]
  },
  {
   "cell_type": "markdown",
   "metadata": {},
   "source": [
    "## Немножко про генераторы в Python\n",
    "\n"
   ]
  },
  {
   "cell_type": "markdown",
   "metadata": {},
   "source": [
    "Идея считывания данных кусками удачно ложится на так называемые ***генераторы*** из языка Python. В данной работе Вам предлагается не только разобраться с логистической регрессией, но  и познакомиться с таким важным элементом языка.  При желании Вы можете убрать весь код, связанный с генераторами, и реализовать логистическую регрессию и без них, ***штрафоваться это никак не будет***. Главное, чтобы сама модель была реализована правильно, и все пункты были выполнены. \n",
    "\n",
    "Подробнее можно почитать вот тут https://anandology.com/python-practice-book/iterators.html\n"
   ]
  },
  {
   "cell_type": "markdown",
   "metadata": {},
   "source": [
    "К генератору стоит относиться просто как к функции, которая порождает не один объект, а целую последовательность объектов. Новое значение из последовательности генерируется с помощью ключевого слова ***yield***. Ниже Вы можете насладиться  генератором чисел Фибоначчи."
   ]
  },
  {
   "cell_type": "code",
   "execution_count": 3,
   "metadata": {},
   "outputs": [],
   "source": [
    "def fib(max_iter=4):\n",
    "    a, b = 0, 1\n",
    "    iter_num = 0\n",
    "    while 1:\n",
    "        yield a\n",
    "        a, b = b, a + b\n",
    "        iter_num += 1\n",
    "        if iter_num == max_iter:\n",
    "            break"
   ]
  },
  {
   "cell_type": "markdown",
   "metadata": {},
   "source": [
    "Вот так можно сгенерировать последовательность Фибоначчи. \n",
    "\n",
    "Заметьте, что к генераторам можно применять некоторые стандартные функции из Python, например enumerate."
   ]
  },
  {
   "cell_type": "code",
   "execution_count": 4,
   "metadata": {},
   "outputs": [
    {
     "name": "stdout",
     "output_type": "stream",
     "text": [
      "Fib num: 0 fib values: 0\n",
      "Fib num: 1 fib values: 1\n",
      "Fib num: 2 fib values: 1\n",
      "Fib num: 3 fib values: 2\n"
     ]
    }
   ],
   "source": [
    "new_generator = fib()\n",
    "for j, fib_val in enumerate(new_generator):\n",
    "    print (\"Fib num: \" + str(j) + \" fib values: \" + str(fib_val))"
   ]
  },
  {
   "cell_type": "markdown",
   "metadata": {},
   "source": [
    "Пересоздавая объект, можно сколько угодно раз генерировать заново последовательность. "
   ]
  },
  {
   "cell_type": "code",
   "execution_count": 5,
   "metadata": {},
   "outputs": [
    {
     "name": "stdout",
     "output_type": "stream",
     "text": [
      "Fib num: 0 fib values: 0\n",
      "Fib num: 1 fib values: 1\n",
      "Fib num: 2 fib values: 1\n",
      "Fib num: 3 fib values: 2\n",
      "Fib num: 0 fib values: 0\n",
      "Fib num: 1 fib values: 1\n",
      "Fib num: 2 fib values: 1\n",
      "Fib num: 3 fib values: 2\n",
      "Fib num: 0 fib values: 0\n",
      "Fib num: 1 fib values: 1\n",
      "Fib num: 2 fib values: 1\n",
      "Fib num: 3 fib values: 2\n"
     ]
    }
   ],
   "source": [
    "for i in range(0, 3):\n",
    "    new_generator = fib()\n",
    "    for j, fib_val in enumerate(new_generator):\n",
    "        print (\"Fib num: \" + str(j) + \" fib values: \" + str(fib_val))"
   ]
  },
  {
   "cell_type": "markdown",
   "metadata": {},
   "source": [
    "А вот так уже нельзя."
   ]
  },
  {
   "cell_type": "code",
   "execution_count": 6,
   "metadata": {},
   "outputs": [
    {
     "name": "stdout",
     "output_type": "stream",
     "text": [
      "Fib num: 0 fib values: 0\n",
      "Fib num: 1 fib values: 1\n",
      "Fib num: 2 fib values: 1\n",
      "Fib num: 3 fib values: 2\n"
     ]
    }
   ],
   "source": [
    "new_generator = fib()\n",
    "for i in range(0, 3):\n",
    "    for j, fib_val in enumerate(new_generator):\n",
    "        print (\"Fib num: \" + str(j) + \" fib values: \" + str(fib_val))"
   ]
  },
  {
   "cell_type": "markdown",
   "metadata": {},
   "source": [
    "Концепция крайне удобная для обучения  моделей $-$ у Вас есть некий источник данных, который Вам выдает их кусками, и Вам совершенно все равно откуда он их берет. Под ним может скрывать как массив в оперативной памяти, как файл на жестком диске, так и SQL база данных. Вы сами данные никуда не сохраняете, оперативную память экономите."
   ]
  },
  {
   "cell_type": "markdown",
   "metadata": {},
   "source": [
    "Если Вам понравилась идея с генераторами, то Вы можете реализовать свой, используя прототип batch_generator. В нем Вам нужно выдавать батчи признаков и ответов для каждой новой итерации спуска. Если не понравилась идея, то можете реализовывать SGD или mini-batch GD без генераторов."
   ]
  },
  {
   "cell_type": "code",
   "execution_count": 520,
   "metadata": {},
   "outputs": [],
   "source": [
    "def batch_generator(X, y, shuffle=True, batch_size=1, butch_n = 1):\n",
    "    \"\"\"\n",
    "    Гератор новых батчей для обучения\n",
    "    X          - матрица объекты-признаки\n",
    "    y          - вектор ответов\n",
    "    shuffle    - нужно ли случайно перемешивать выборку\n",
    "    batch_size - размер батча ( 1 это SGD, > 1 mini-batch GD)\n",
    "    Генерирует подвыборку для итерации спуска (X_batch, y_batch)\n",
    "    \"\"\"\n",
    "    \n",
    "    matrix = np.concatenate((X, y.reshape(y.shape[0], -1)), axis=1)\n",
    "    if shuffle:\n",
    "        np.random.seed(1)\n",
    "        np.random.shuffle(matrix)\n",
    "        \n",
    "    for i in range(int(X.shape[0]/batch_size)):\n",
    "        X_batch = matrix[i * batch_size:(i + 1) * batch_size:, :-1:]\n",
    "        y_batch = matrix[i * batch_size:(i + 1) * batch_size:, -1]\n",
    "        yield (X_batch, y_batch)\n",
    "    \n",
    "# Теперь можно сделать генератор по данным ()\n",
    "#  my_batch_generator = batch_generator(X, y, shuffle=True, batch_size=1):"
   ]
  },
  {
   "cell_type": "code",
   "execution_count": 1112,
   "metadata": {},
   "outputs": [],
   "source": [
    "#%%pycodestyle\n",
    "\n",
    "def sigmoid(x):\n",
    "    \"\"\"\n",
    "    Вычисляем значение сигмоида.\n",
    "    X - выход линейной модели\n",
    "    \"\"\"\n",
    "    \n",
    "    sigm_value_x = 1. / (1. + np.exp(-np.float32(x)))\n",
    "    \n",
    "    ## Your code Here\n",
    "    return sigm_value_x\n",
    "\n",
    "\n",
    "from sklearn.base import BaseEstimator, ClassifierMixin\n",
    "\n",
    "class MySGDClassifier(BaseEstimator, ClassifierMixin):\n",
    "    \n",
    "    def __init__(self, batch_generator, batch_size=1, C=1, alpha=0.01, max_epoch=10, model_type='lin_reg'):\n",
    "        \"\"\"\n",
    "        batch_generator -- функция генератор, которой будем создавать батчи\n",
    "        C - коэф. регуляризации\n",
    "        alpha - скорость спуска\n",
    "        max_epoch - максимальное количество эпох\n",
    "        model_type - тим модели, lin_reg или log_reg\n",
    "        \"\"\"\n",
    "        \n",
    "        self.C = C\n",
    "        self.alpha = alpha\n",
    "        self.max_epoch = max_epoch\n",
    "        self.batch_generator = batch_generator\n",
    "        self.batch_size = batch_size\n",
    "        self.errors_log = {'iter' : [], 'loss' : []} \n",
    "        self.model_type = model_type\n",
    "        \n",
    "    def calc_loss(self, X_batch, y_batch):\n",
    "        \"\"\"\n",
    "        Считаем функцию потерь по батчу \n",
    "        X_batch - матрица объекты-признаки по батчу\n",
    "        y_batch - вектор ответов по батчу\n",
    "        Не забудте тип модели (линейная или логистическая регрессия)!\n",
    "        \"\"\"\n",
    "        X = np.asmatrix(X_batch)\n",
    "        Y = np.asmatrix(y_batch)\n",
    "        \n",
    "        if self.model_type == 'log_reg':\n",
    "            Y = np.asarray(Y)\n",
    "            sigm_v = np.vectorize(sigmoid)\n",
    "            a = np.asarray(sigm_v(X * self.weights.T))\n",
    "            loss_ = (1 - Y) * np.log(1 - a)\n",
    "            loss = -(Y * np.log(a) + loss_)\n",
    "            loss = np.sum(loss)\n",
    "            loss /= Y.shape[0]\n",
    "            loss += np.sum(np.asarray(self.weights) ** 2) / self.C\n",
    "            return loss\n",
    "        \n",
    "        scalar = np.asarray(X * self.weights.T - Y.T)\n",
    "        loss = np.sum(scalar**2)    \n",
    "        loss /= Y.shape[0]\n",
    "        loss += np.sum(np.asarray(self.weights) ** 2) / self.C\n",
    "        return loss\n",
    "    \n",
    "    def calc_loss_grad(self, X_batch, y_batch):\n",
    "        \"\"\"\n",
    "        Считаем  градиент функции потерь по батчу (то что Вы вывели в задании 1)\n",
    "        X_batch - матрица объекты-признаки по батчу\n",
    "        y_batch - вектор ответов по батчу\n",
    "        Не забудте тип модели (линейная или логистическая регрессия)!\n",
    "        \"\"\"\n",
    "        \n",
    "        X = np.asmatrix(X_batch)\n",
    "        Y = np.asmatrix(y_batch)\n",
    "                \n",
    "        if self.model_type == 'log_reg':\n",
    "            sigm_v = np.vectorize(sigmoid)\n",
    "            sigm = sigm_v(X * self.weights.T) - Y.T\n",
    "            loss_grad = sigm.T * X / self.batch_size\n",
    "            loss_grad += 2 * self.weights / self.C\n",
    "            return loss_grad.T\n",
    "        \n",
    "        loss_grad = 2 * (X.T * X * self.weights.T - X.T * Y.T) / self.batch_size\n",
    "        loss_grad += (2 * self.weights / self.C).T\n",
    "        return loss_grad\n",
    "    \n",
    "    def update_weights(self, new_grad):\n",
    "        \"\"\"\n",
    "        Обновляем вектор весов\n",
    "        new_grad - градиент по батчу\n",
    "        \"\"\"\n",
    "        \n",
    "        self.weights -= self.alpha * new_grad.T\n",
    "        \n",
    "        pass\n",
    "    \n",
    "    def fit(self, X, y):\n",
    "        '''\n",
    "        Обучение модели\n",
    "        X - матрица объекты-признаки\n",
    "        y - вектор ответов\n",
    "        '''\n",
    "        \n",
    "        X = np.concatenate((X, np.ones(y.shape[0]).reshape(y.shape[0], -1)), axis=1)\n",
    "        # Нужно инициализровать случайно веса\n",
    "        self.weights = np.asmatrix(np.random.random_sample(size=X.shape[1]))\n",
    "        for n in range(0, self.max_epoch):\n",
    "            new_epoch_generator = self.batch_generator(X, y, batch_size=self.batch_size, shuffle=True)\n",
    "            for batch_num, new_batch in enumerate(new_epoch_generator):\n",
    "                X_batch = new_batch[0]\n",
    "                y_batch = new_batch[1]\n",
    "                batch_grad = self.calc_loss_grad(X_batch, y_batch)\n",
    "                self.update_weights(batch_grad)\n",
    "                batch_loss = self.calc_loss(X_batch, y_batch)\n",
    "                # Подумайте в каком месте стоит посчитать ошибку для отладки модели\n",
    "                self.errors_log['iter'].append(batch_num)\n",
    "                self.errors_log['loss'].append(batch_loss) \n",
    "            #self.alpha /= 2\n",
    "        return self\n",
    "        \n",
    "    def predict(self, X):\n",
    "        '''\n",
    "        Предсказание класса\n",
    "        X - матрица объекты-признаки\n",
    "        Не забудте тип модели (линейная или логистическая регрессия)!\n",
    "        '''\n",
    "        X = np.concatenate((X, np.ones(X.shape[0]).reshape(X.shape[0], -1)), axis=1)\n",
    "        y_pred = np.asmatrix(X) * self.weights.T\n",
    "        \n",
    "        y_hat = np.zeros(y_pred.shape)\n",
    "        \n",
    "        for i in range(y_pred.shape[0]):\n",
    "            if y_pred[i] > 0.5:\n",
    "                y_hat[i] = 1\n",
    "            \n",
    "        # Желательно здесь использовать матричные операции между X и весами, например, numpy.dot \n",
    "        return y_hat"
   ]
  },
  {
   "cell_type": "markdown",
   "metadata": {},
   "source": [
    "Запустите обе регрессии на синтетических данных. \n",
    "\n",
    "\n",
    "Выведите полученные веса и нарисуйте разделяющую границу между классами (используйте только первых два веса для первых двух признаков X[:,0], X[:,1] для отображения в 2d пространство ).  "
   ]
  },
  {
   "cell_type": "code",
   "execution_count": 1113,
   "metadata": {},
   "outputs": [],
   "source": [
    "def plot_decision_boundary(clf, col = 'r'):\n",
    "    # разделяющая плоскость на классы 1 и 0 должна проходить по середине т.е. w0 + w1*x1 + w2*x2 = 1/2 => \n",
    "    # x2 = (-w1/w2)x1 + (1/2 - w0)/w2 \n",
    "    coeff = clf.weights.tolist()[0]\n",
    "    k = -coeff[0] / coeff[1];\n",
    "    b = (0.5 - coeff[2]) / coeff[1];\n",
    "    x1 = -4\n",
    "    x2 = 8\n",
    "    plt.plot([x1, x2], [x1 * k + b, x2 * k + b], 'k-', color = col)\n",
    "    pass"
   ]
  },
  {
   "cell_type": "code",
   "execution_count": 1114,
   "metadata": {},
   "outputs": [
    {
     "name": "stdout",
     "output_type": "stream",
     "text": [
      "[[ 0.11471474 -0.11293435  0.00880426]] lir 0.12452420994209035\n",
      "[[ 0.54358117 -0.50481892 -2.42093367]] lor 0.40511536063832454\n"
     ]
    },
    {
     "data": {
      "image/png": "[encoded data removed]",
      "text/plain": [
       "<Figure size 864x360 with 1 Axes>"
      ]
     },
     "metadata": {},
     "output_type": "display_data"
    }
   ],
   "source": [
    "np.random.seed(0)\n",
    "\n",
    "C1 = np.array([[0., -0.8], [1.5, 0.8]])\n",
    "C2 = np.array([[1., -0.7], [2., 0.7]])\n",
    "gauss1 = np.dot(np.random.randn(200, 2) + np.array([5, 3]), C1)\n",
    "gauss2 = np.dot(np.random.randn(200, 2) + np.array([1.5, 0]), C2)\n",
    "\n",
    "X = np.vstack([gauss1, gauss2])\n",
    "y = np.r_[np.ones(200), np.zeros(200)]\n",
    "#print(X.shape, y.shape)\n",
    "\n",
    "#\\\\\\\\\\\\\\\\\\\\\\\\\\\\\\\\\\\\\\\n",
    "\n",
    "lir = MySGDClassifier(batch_generator)\n",
    "lir.fit(X, y)\n",
    "print(lir.weights, \"lir\", lir.errors_log['loss'][-1])\n",
    "lor = MySGDClassifier(batch_generator, model_type='log_reg', C=1000)\n",
    "lor.fit(X, y)\n",
    "print(lor.weights, \"lor\", lor.errors_log['loss'][-1])\n",
    "\n",
    "#\\\\\\\\\\\\\\\\\\\\\\\\\\\\\\\\\\\\\\\\\\\\\\\\\\\\\n",
    "\n",
    "plot_decision_boundary(lir, 'r')\n",
    "plot_decision_boundary(lor, 'g')\n",
    "\n",
    "plt.scatter(X[:,0], X[:,1], c=y)\n",
    "plt.show()"
   ]
  },
  {
   "cell_type": "markdown",
   "metadata": {},
   "source": [
    "Далее будем анализировать Ваш алгоритм. \n",
    "Для этих заданий используйте датасет ниже."
   ]
  },
  {
   "cell_type": "code",
   "execution_count": 938,
   "metadata": {},
   "outputs": [],
   "source": [
    "from sklearn.datasets import make_classification"
   ]
  },
  {
   "cell_type": "code",
   "execution_count": 939,
   "metadata": {},
   "outputs": [],
   "source": [
    "X, y = make_classification(n_samples=100000, n_features=10, \n",
    "                           n_informative=4, n_redundant=0, \n",
    "                           random_state=123, class_sep=1.0,\n",
    "                           n_clusters_per_class=1)"
   ]
  },
  {
   "cell_type": "markdown",
   "metadata": {},
   "source": [
    "Покажите сходимости обеих регрессией на этом датасете: изобразите график  функции потерь, усредненной по $N$ шагам градиентого спуска, для разных `alpha` (размеров шага). Разные `alpha` расположите на одном графике. \n",
    "\n",
    "$N$ можно брать 10, 50, 100 и т.д. "
   ]
  },
  {
   "cell_type": "code",
   "execution_count": 932,
   "metadata": {},
   "outputs": [
    {
     "data": {
      "image/png": "[encoded data removed]",
      "text/plain": [
       "<Figure size 864x360 with 1 Axes>"
      ]
     },
     "metadata": {},
     "output_type": "display_data"
    },
    {
     "name": "stdout",
     "output_type": "stream",
     "text": [
      "Wall time: 30.9 s\n"
     ]
    }
   ],
   "source": [
    "%%time\n",
    "N = 10\n",
    "alpha = [0.0001, 0.001, 0.01]\n",
    "for j in alpha:\n",
    "    lr = MySGDClassifier(batch_generator=batch_generator, batch_size=1000, max_epoch = 10, alpha=j,model_type='lin_reg')\n",
    "    lr.fit(X, y)\n",
    "    n = range(0, len(lr.errors_log['loss']), N)\n",
    "    plt.plot(n, [np.mean(lr.errors_log['loss'][i:i + N]) for i in n])\n",
    "plt.show()"
   ]
  },
  {
   "cell_type": "code",
   "execution_count": 940,
   "metadata": {},
   "outputs": [
    {
     "data": {
      "image/png": "[encoded data removed]",
      "text/plain": [
       "<Figure size 864x360 with 1 Axes>"
      ]
     },
     "metadata": {},
     "output_type": "display_data"
    },
    {
     "name": "stdout",
     "output_type": "stream",
     "text": [
      "Wall time: 16min 52s\n"
     ]
    }
   ],
   "source": [
    "%%time\n",
    "N = 10\n",
    "alpha = [0.0001, 0.001, 0.01]\n",
    "for j in alpha:\n",
    "    lr = MySGDClassifier(batch_generator=batch_generator, batch_size=1000, max_epoch = 10, alpha=j,model_type='log_reg')\n",
    "    lr.fit(X, y)\n",
    "    n = range(0, len(lr.errors_log['loss']), N)\n",
    "    plt.plot(n, [np.mean(lr.errors_log['loss'][i:i + N]) for i in n])\n",
    "plt.show()"
   ]
  },
  {
   "cell_type": "markdown",
   "metadata": {},
   "source": [
    "Что Вы можете сказать про сходимость метода при различных `alpha`? Какое значение стоит выбирать для лучшей сходимости?"
   ]
  },
  {
   "cell_type": "markdown",
   "metadata": {},
   "source": [
    "Изобразите график среднего значения весов для обеих регрессий в зависимости от коеф. регуляризации С из `np.logspace(3, -3, 10)` "
   ]
  },
  {
   "cell_type": "code",
   "execution_count": 945,
   "metadata": {},
   "outputs": [
    {
     "data": {
      "text/plain": [
       "array([1.00000000e+03, 2.15443469e+02, 4.64158883e+01, 1.00000000e+01,\n",
       "       2.15443469e+00, 4.64158883e-01, 1.00000000e-01, 2.15443469e-02,\n",
       "       4.64158883e-03, 1.00000000e-03])"
      ]
     },
     "execution_count": 945,
     "metadata": {},
     "output_type": "execute_result"
    }
   ],
   "source": [
    "C = np.logspace(3, -3, 10)\n",
    "C"
   ]
  },
  {
   "cell_type": "code",
   "execution_count": 951,
   "metadata": {
    "scrolled": true
   },
   "outputs": [
    {
     "name": "stdout",
     "output_type": "stream",
     "text": [
      "[0.34250547 0.34238184 0.34203803 0.34108301 0.33843837 0.33117738\n",
      " 0.31171286 0.26290494 0.16145486 0.03752062]\n"
     ]
    },
    {
     "data": {
      "image/png": "[encoded data removed]",
      "text/plain": [
       "<Figure size 864x360 with 1 Axes>"
      ]
     },
     "metadata": {},
     "output_type": "display_data"
    },
    {
     "name": "stdout",
     "output_type": "stream",
     "text": [
      "Wall time: 1min 46s\n"
     ]
    }
   ],
   "source": [
    "%%time\n",
    "C = np.logspace(3, -1, 10)\n",
    "w1 = np.zeros(shape=(0,0))\n",
    "for j in C:\n",
    "    lr = MySGDClassifier(batch_generator=batch_generator, batch_size=100000, max_epoch=10, C=j, model_type='lin_reg')\n",
    "    lr.fit(X, y)\n",
    "    w1 = np.append(w1, np.mean(lr.weights))\n",
    "plt.plot(C, w1)\n",
    "print(w1)\n",
    "plt.show()"
   ]
  },
  {
   "cell_type": "code",
   "execution_count": 961,
   "metadata": {},
   "outputs": [
    {
     "name": "stdout",
     "output_type": "stream",
     "text": [
      "[ 0.31819708  0.31693421  0.31344592  0.30393591  0.27893302  0.21944932\n",
      "  0.11125639  0.01141299 -0.00535915 -0.00218818]\n"
     ]
    },
    {
     "data": {
      "image/png": "[encoded data removed]",
      "text/plain": [
       "<Figure size 864x360 with 1 Axes>"
      ]
     },
     "metadata": {},
     "output_type": "display_data"
    },
    {
     "name": "stdout",
     "output_type": "stream",
     "text": [
      "Wall time: 3min 17s\n"
     ]
    }
   ],
   "source": [
    "%%time\n",
    "C = np.logspace(3, -1, 10)\n",
    "w1 = np.zeros(shape=(0,0))\n",
    "for j in C:\n",
    "    lr = MySGDClassifier(batch_generator=batch_generator, batch_size=1000, max_epoch=1, C=j, model_type='log_reg')\n",
    "    lr.fit(X, y)\n",
    "    w1 = np.append(w1, np.mean(lr.weights))\n",
    "    #print(\"j\")\n",
    "plt.plot(C, w1)\n",
    "print(w1)\n",
    "plt.show()"
   ]
  },
  {
   "cell_type": "markdown",
   "metadata": {},
   "source": [
    "Довольны ли Вы, насколько сильно уменьшились Ваши веса? "
   ]
  },
  {
   "cell_type": "markdown",
   "metadata": {},
   "source": [
    "# Боевое применение (3  балла)"
   ]
  },
  {
   "cell_type": "markdown",
   "metadata": {},
   "source": [
    "Давайте применим модель на итоговом проекте! Датасет сделаем точно таким же образом, как было показано в project_overview-2.ipynb\n",
    "\n",
    "Применим обе регрессии, подберем для них параметры и сравним качество. Может быть Вы еще одновременно с решением домашней работы подрастете на лидерборде!"
   ]
  },
  {
   "cell_type": "code",
   "execution_count": 1013,
   "metadata": {},
   "outputs": [
    {
     "name": "stdout",
     "output_type": "stream",
     "text": [
      "28026\n"
     ]
    }
   ],
   "source": [
    "import csv\n",
    "import shutil\n",
    "import sys\n",
    "doc_to_title = {}\n",
    "with open('G:\\\\programs\\\\kg\\\\anomaly-detection-competition-ml1-ts-spring-2019\\\\docs_titles.tsv', encoding='utf-8') as f:\n",
    "    for num_line, line in enumerate(f):\n",
    "        if num_line == 0:\n",
    "            continue\n",
    "        data = line.strip().split('\\t', 1)\n",
    "        doc_id = int(data[0])\n",
    "        if len(data) == 1:\n",
    "            title = ''\n",
    "        else:\n",
    "            title = data[1]\n",
    "        doc_to_title[doc_id] = title\n",
    "print(len(doc_to_title))"
   ]
  },
  {
   "cell_type": "code",
   "execution_count": 1014,
   "metadata": {},
   "outputs": [],
   "source": [
    "import pandas as pd\n",
    "train_data = pd.read_csv('G:\\\\programs\\\\kg\\\\anomaly-detection-competition-ml1-ts-spring-2019\\\\train_groups.csv')\n",
    "traingroups_titledata = {}\n",
    "for i in range(len(train_data)):\n",
    "    new_doc = train_data.iloc[i]\n",
    "    doc_group = new_doc['group_id']\n",
    "    doc_id = new_doc['doc_id']\n",
    "    target = new_doc['target']\n",
    "    title = doc_to_title[doc_id]\n",
    "    if doc_group not in traingroups_titledata:\n",
    "        traingroups_titledata[doc_group] = []\n",
    "    traingroups_titledata[doc_group].append((doc_id, title, target))"
   ]
  },
  {
   "cell_type": "code",
   "execution_count": 1034,
   "metadata": {},
   "outputs": [
    {
     "name": "stdout",
     "output_type": "stream",
     "text": [
      "(11690, 15) (11690,) (11690,)\n"
     ]
    }
   ],
   "source": [
    "import numpy as np\n",
    "y_train = []\n",
    "X_train = []\n",
    "groups_train = []\n",
    "for new_group in traingroups_titledata:\n",
    "    docs = traingroups_titledata[new_group]\n",
    "    for k, (doc_id, title, target_id) in enumerate(docs):\n",
    "        y_train.append(target_id)\n",
    "        groups_train.append(new_group)\n",
    "        all_dist = []\n",
    "        words = set(title.strip().split())\n",
    "        for j in range(0, len(docs)):\n",
    "            if k == j:\n",
    "                continue\n",
    "            doc_id_j, title_j, target_j = docs[j]\n",
    "            words_j = set(title_j.strip().split())\n",
    "            all_dist.append(len(words.intersection(words_j)))\n",
    "        X_train.append(sorted(all_dist, reverse=True)[0:15]    )\n",
    "X_train = np.array(X_train)\n",
    "y_train = np.array(y_train)\n",
    "groups_train = np.array(groups_train)\n",
    "print (X_train.shape, y_train.shape, groups_train.shape)"
   ]
  },
  {
   "cell_type": "markdown",
   "metadata": {},
   "source": [
    "Подберите размер батча для обучения. Линейная модель не должна учиться дольше нескольких минут. \n",
    "\n",
    "Не забывайте использовать скейлер!"
   ]
  },
  {
   "cell_type": "code",
   "execution_count": 1016,
   "metadata": {},
   "outputs": [],
   "source": [
    "from sklearn.metrics import f1_score\n",
    "from sklearn.linear_model import LinearRegression\n",
    "from sklearn.preprocessing import StandardScaler"
   ]
  },
  {
   "cell_type": "code",
   "execution_count": 1017,
   "metadata": {},
   "outputs": [],
   "source": [
    "gen = [i for i in np.concatenate((X_train, y_train.reshape(y_train.shape[0], -1)), axis=1) if i[-1] == 0]\n"
   ]
  },
  {
   "cell_type": "code",
   "execution_count": 1018,
   "metadata": {},
   "outputs": [
    {
     "data": {
      "image/png": "[encoded data removed]",
      "text/plain": [
       "<Figure size 864x360 with 1 Axes>"
      ]
     },
     "metadata": {},
     "output_type": "display_data"
    },
    {
     "data": {
      "text/plain": [
       "array([[4, 4, 3, ..., 2, 1, 1],\n",
       "       [8, 7, 7, ..., 2, 2, 2],\n",
       "       [2, 2, 2, ..., 1, 1, 1],\n",
       "       ...,\n",
       "       [0, 0, 0, ..., 0, 0, 0],\n",
       "       [6, 2, 1, ..., 1, 1, 1],\n",
       "       [3, 2, 2, ..., 1, 1, 1]])"
      ]
     },
     "execution_count": 1018,
     "metadata": {},
     "output_type": "execute_result"
    }
   ],
   "source": [
    "plt.scatter(X_train[:, 0], X_train[:, 1], c=y_train)\n",
    "plt.show()\n",
    "X_train"
   ]
  },
  {
   "cell_type": "code",
   "execution_count": 1027,
   "metadata": {},
   "outputs": [
    {
     "name": "stderr",
     "output_type": "stream",
     "text": [
      "C:\\Users\\nikol\\Anaconda\\lib\\site-packages\\ipykernel_launcher.py:58: RuntimeWarning: overflow encountered in square\n",
      "C:\\Users\\nikol\\Anaconda\\lib\\site-packages\\ipykernel_launcher.py:60: RuntimeWarning: overflow encountered in double_scalars\n",
      "C:\\Users\\nikol\\Anaconda\\lib\\site-packages\\ipykernel_launcher.py:60: RuntimeWarning: overflow encountered in square\n",
      "C:\\Users\\nikol\\Anaconda\\lib\\site-packages\\ipykernel_launcher.py:89: RuntimeWarning: invalid value encountered in subtract\n"
     ]
    },
    {
     "name": "stdout",
     "output_type": "stream",
     "text": [
      "187.41212797164917\n",
      "13.52771782875061\n",
      "2.9600040912628174\n",
      "1.9473364353179932\n",
      "2.02449107170105\n"
     ]
    }
   ],
   "source": [
    "import time\n",
    "batch_size = [1, 10, 100, 1000, 10000]\n",
    "for i in batch_size:\n",
    "    lr = MySGDClassifier(batch_generator=batch_generator, batch_size=i, model_type='lin_reg')\n",
    "    start = time.time()\n",
    "    lr.fit(X_train, y_train)\n",
    "    curent_time = time.time()\n",
    "    print(curent_time - start)"
   ]
  },
  {
   "cell_type": "code",
   "execution_count": 1030,
   "metadata": {},
   "outputs": [
    {
     "name": "stdout",
     "output_type": "stream",
     "text": [
      "193.10725808143616\n",
      "36.1955292224884\n"
     ]
    },
    {
     "name": "stderr",
     "output_type": "stream",
     "text": [
      "C:\\Users\\nikol\\Anaconda\\lib\\site-packages\\ipykernel_launcher.py:50: RuntimeWarning: divide by zero encountered in log\n",
      "C:\\Users\\nikol\\Anaconda\\lib\\site-packages\\ipykernel_launcher.py:50: RuntimeWarning: invalid value encountered in multiply\n"
     ]
    },
    {
     "name": "stdout",
     "output_type": "stream",
     "text": [
      "6.015280246734619\n",
      "31.764052152633667\n",
      "246.88578820228577\n"
     ]
    }
   ],
   "source": [
    "batch_size = [1, 10, 100, 1000, 10000]\n",
    "for i in batch_size:\n",
    "    lr = MySGDClassifier(batch_generator=batch_generator, batch_size=i, model_type='log_reg')\n",
    "    start = time.time()\n",
    "    lr.fit(X_train, y_train)\n",
    "    curent_time = time.time()\n",
    "    print(curent_time - start)"
   ]
  },
  {
   "cell_type": "markdown",
   "metadata": {},
   "source": [
    "Разбейте данные на обучение и валидацию. Подберите параметры C, alpha, max_epoch, model_type на валидации (Вы же помните, как правильно в этой задаче делать валидацию?)"
   ]
  },
  {
   "cell_type": "code",
   "execution_count": 1035,
   "metadata": {},
   "outputs": [
    {
     "name": "stdout",
     "output_type": "stream",
     "text": [
      "(10521,) (10521, 15)\n"
     ]
    }
   ],
   "source": [
    "from sklearn.model_selection import train_test_split\n",
    "X_train, X_test, y_train, y_test = train_test_split(X_train, y_train, test_size=0.1, stratify=y_train)\n",
    "print(y_train.shape, X_train.shape)"
   ]
  },
  {
   "cell_type": "code",
   "execution_count": 1045,
   "metadata": {},
   "outputs": [
    {
     "name": "stdout",
     "output_type": "stream",
     "text": [
      "0.28999144568006846 C = 1\n",
      "0.2865697177074423 C = 10\n",
      "0.2985457656116339 C = 100\n",
      "0.28999144568006846 C = 1000\n",
      "0.290846877673225 C = 10000\n"
     ]
    }
   ],
   "source": [
    "import scipy\n",
    "C = [1, 10, 100, 1000, 10000]\n",
    "for i in C:\n",
    "    lr = MySGDClassifier(batch_generator=batch_generator, batch_size=10, C=i, model_type='lin_reg')\n",
    "    start = time.time()\n",
    "    lr.fit(X_train, y_train)\n",
    "    curent_time = time.time()\n",
    "    print(scipy.spatial.distance.cityblock(lr.predict(X_test), y_test)/(y_test.shape[0]), 'C =', i)"
   ]
  },
  {
   "cell_type": "code",
   "execution_count": 1047,
   "metadata": {},
   "outputs": [
    {
     "name": "stdout",
     "output_type": "stream",
     "text": [
      "0.2840034217279726 C = 1\n",
      "0.22840034217279725 C = 10\n",
      "0.21813515825491872 C = 100\n",
      "0.21129170230966637 C = 1000\n",
      "0.21043627031650983 C = 10000\n"
     ]
    }
   ],
   "source": [
    "for i in C:\n",
    "    lr = MySGDClassifier(batch_generator=batch_generator, batch_size=10, C=i, model_type='log_reg')\n",
    "    start = time.time()\n",
    "    lr.fit(X_train, y_train)\n",
    "    curent_time = time.time()\n",
    "    print(scipy.spatial.distance.cityblock(lr.predict(X_test), y_test)/(y_test.shape[0]), 'C =', i)"
   ]
  },
  {
   "cell_type": "code",
   "execution_count": 1050,
   "metadata": {},
   "outputs": [
    {
     "name": "stdout",
     "output_type": "stream",
     "text": [
      "0.28999144568006846 epoch = 10\n",
      "0.28999144568006846 epoch = 50\n",
      "0.28999144568006846 epoch = 100\n"
     ]
    }
   ],
   "source": [
    "max_e = [10, 50, 100]\n",
    "for i in max_e:\n",
    "    lr = MySGDClassifier(batch_generator=batch_generator, batch_size=10, max_epoch=i, model_type='lin_reg')\n",
    "    start = time.time()\n",
    "    lr.fit(X_train, y_train)\n",
    "    curent_time = time.time()\n",
    "    print(scipy.spatial.distance.cityblock(lr.predict(X_test), y_test)/(y_test.shape[0]), 'epoch =', i)"
   ]
  },
  {
   "cell_type": "code",
   "execution_count": 1051,
   "metadata": {},
   "outputs": [
    {
     "name": "stdout",
     "output_type": "stream",
     "text": [
      "0.21043627031650983 epoch = 10\n",
      "0.20958083832335328 epoch = 50\n",
      "0.21043627031650983 epoch = 100\n"
     ]
    }
   ],
   "source": [
    "for i in max_e:\n",
    "    lr = MySGDClassifier(batch_generator=batch_generator, batch_size=10, C=10000, max_epoch=i, model_type='log_reg')\n",
    "    start = time.time()\n",
    "    lr.fit(X_train, y_train)\n",
    "    curent_time = time.time()\n",
    "    print(scipy.spatial.distance.cityblock(lr.predict(X_test), y_test)/(y_test.shape[0]), 'epoch =', i)"
   ]
  },
  {
   "cell_type": "code",
   "execution_count": 1052,
   "metadata": {},
   "outputs": [
    {
     "name": "stderr",
     "output_type": "stream",
     "text": [
      "C:\\Users\\nikol\\Anaconda\\lib\\site-packages\\ipykernel_launcher.py:58: RuntimeWarning: overflow encountered in square\n",
      "C:\\Users\\nikol\\Anaconda\\lib\\site-packages\\numpy\\core\\fromnumeric.py:83: RuntimeWarning: overflow encountered in reduce\n",
      "  return ufunc.reduce(obj, axis, dtype, out, **passkwargs)\n",
      "C:\\Users\\nikol\\Anaconda\\lib\\site-packages\\ipykernel_launcher.py:60: RuntimeWarning: overflow encountered in square\n",
      "C:\\Users\\nikol\\Anaconda\\lib\\site-packages\\ipykernel_launcher.py:89: RuntimeWarning: invalid value encountered in subtract\n",
      "C:\\Users\\nikol\\Anaconda\\lib\\site-packages\\ipykernel_launcher.py:129: RuntimeWarning: invalid value encountered in greater\n"
     ]
    },
    {
     "name": "stdout",
     "output_type": "stream",
     "text": [
      "0.2874251497005988 alpha = 0.1\n",
      "0.28999144568006846 alpha = 0.01\n",
      "0.20786997433704021 alpha = 0.001\n",
      "0.20958083832335328 alpha = 0.0001\n"
     ]
    }
   ],
   "source": [
    "alpha = [0.1, 0.01, 0.001, 0.0001]\n",
    "for i in alpha:\n",
    "    lr = MySGDClassifier(batch_generator=batch_generator, batch_size=10, alpha=i, model_type='lin_reg')\n",
    "    start = time.time()\n",
    "    lr.fit(X_train, y_train)\n",
    "    curent_time = time.time()\n",
    "    print(scipy.spatial.distance.cityblock(lr.predict(X_test), y_test)/(y_test.shape[0]), 'alpha =', i)"
   ]
  },
  {
   "cell_type": "code",
   "execution_count": 1053,
   "metadata": {},
   "outputs": [
    {
     "name": "stdout",
     "output_type": "stream",
     "text": [
      "0.2600513259195894 alpha = 0.1\n",
      "0.21043627031650983 alpha = 0.01\n"
     ]
    },
    {
     "name": "stderr",
     "output_type": "stream",
     "text": [
      "C:\\Users\\nikol\\Anaconda\\lib\\site-packages\\ipykernel_launcher.py:50: RuntimeWarning: divide by zero encountered in log\n",
      "C:\\Users\\nikol\\Anaconda\\lib\\site-packages\\ipykernel_launcher.py:50: RuntimeWarning: invalid value encountered in multiply\n"
     ]
    },
    {
     "name": "stdout",
     "output_type": "stream",
     "text": [
      "0.2249786142001711 alpha = 0.001\n",
      "0.31736526946107785 alpha = 0.0001\n"
     ]
    }
   ],
   "source": [
    "alpha = [0.1, 0.01, 0.001, 0.0001]\n",
    "for i in alpha:\n",
    "    lr = MySGDClassifier(batch_generator=batch_generator, batch_size=10, C=10000, max_epoch=10, alpha=i, model_type='log_reg')\n",
    "    start = time.time()\n",
    "    lr.fit(X_train, y_train)\n",
    "    curent_time = time.time()\n",
    "    print(scipy.spatial.distance.cityblock(lr.predict(X_test), y_test)/(y_test.shape[0]), 'alpha =', i)"
   ]
  },
  {
   "cell_type": "code",
   "execution_count": 1054,
   "metadata": {},
   "outputs": [],
   "source": [
    "#optimal lin reg param: C = 10, alpha = 0.001, max_e = 10\n",
    "#optimal log reg param: C = 10000, alpha = 0.01, max_e = 50"
   ]
  },
  {
   "cell_type": "code",
   "execution_count": 1055,
   "metadata": {},
   "outputs": [
    {
     "name": "stdout",
     "output_type": "stream",
     "text": [
      "(11690, 15) (11690,) (11690,)\n"
     ]
    }
   ],
   "source": [
    "y_train = []\n",
    "X_train = []\n",
    "groups_train = []\n",
    "for new_group in traingroups_titledata:\n",
    "    docs = traingroups_titledata[new_group]\n",
    "    for k, (doc_id, title, target_id) in enumerate(docs):\n",
    "        y_train.append(target_id)\n",
    "        groups_train.append(new_group)\n",
    "        all_dist = []\n",
    "        words = set(title.strip().split())\n",
    "        for j in range(0, len(docs)):\n",
    "            if k == j:\n",
    "                continue\n",
    "            doc_id_j, title_j, target_j = docs[j]\n",
    "            words_j = set(title_j.strip().split())\n",
    "            all_dist.append(len(words.intersection(words_j)))\n",
    "        X_train.append(sorted(all_dist, reverse=True)[0:15]    )\n",
    "X_train = np.array(X_train)\n",
    "y_train = np.array(y_train)\n",
    "groups_train = np.array(groups_train)\n",
    "print (X_train.shape, y_train.shape, groups_train.shape)"
   ]
  },
  {
   "cell_type": "code",
   "execution_count": 1077,
   "metadata": {},
   "outputs": [],
   "source": [
    "import pandas as pd\n",
    "test_data = pd.read_csv('G:\\\\programs\\\\kg\\\\anomaly-detection-competition-ml1-ts-spring-2019\\\\test_groups.csv')\n",
    "test_titledata = {}\n",
    "for i in range(len(test_data)):\n",
    "    new_doc = test_data.iloc[i]\n",
    "    doc_pair = new_doc['pair_id']\n",
    "    doc_group = new_doc['group_id']\n",
    "    doc_id = new_doc['doc_id']\n",
    "    title = doc_to_title[doc_id]\n",
    "    if doc_group not in test_titledata:\n",
    "        test_titledata[doc_group] = []\n",
    "    test_titledata[doc_group].append((doc_id, title, doc_pair))"
   ]
  },
  {
   "cell_type": "code",
   "execution_count": 1081,
   "metadata": {},
   "outputs": [
    {
     "name": "stdout",
     "output_type": "stream",
     "text": [
      "(16627, 15) (16627,) (16627,)\n"
     ]
    }
   ],
   "source": [
    "X_test = []\n",
    "pair = []\n",
    "groups_test = []\n",
    "for new_group in test_titledata:\n",
    "    docs = test_titledata[new_group]\n",
    "    for k, (doc_id, title, doc_pair) in enumerate(docs):\n",
    "        groups_test.append(new_group)\n",
    "        all_dist = []\n",
    "        words = set(title.strip().split())\n",
    "        for j in range(0, len(docs)):\n",
    "            if k == j:\n",
    "                continue\n",
    "            doc_id_j, title_j, target_j = docs[j]\n",
    "            words_j = set(title_j.strip().split())\n",
    "            all_dist.append(len(words.intersection(words_j)))\n",
    "        X_test.append(sorted(all_dist, reverse=True)[0:15]    )\n",
    "        pair.append(doc_pair)\n",
    "X_test = np.array(X_test)\n",
    "groups_test = np.array(groups_test)\n",
    "pair = np.array(pair)\n",
    "print (X_test.shape, groups_test.shape, pair.shape)"
   ]
  },
  {
   "cell_type": "code",
   "execution_count": 1105,
   "metadata": {},
   "outputs": [],
   "source": [
    "lr = MySGDClassifier(batch_generator=batch_generator, batch_size=10, C=10, alpha=0.01, max_epoch=10, model_type='lin_reg')\n",
    "lr.fit(X_train, y_train)\n",
    "ans = lr.predict(X_test)"
   ]
  },
  {
   "cell_type": "code",
   "execution_count": 1106,
   "metadata": {},
   "outputs": [
    {
     "data": {
      "text/plain": [
       "array([[1.1691e+04, 1.0000e+00],\n",
       "       [1.1692e+04, 1.0000e+00],\n",
       "       [1.1693e+04, 1.0000e+00],\n",
       "       ...,\n",
       "       [2.8315e+04, 1.0000e+00],\n",
       "       [2.8316e+04, 1.0000e+00],\n",
       "       [2.8317e+04, 1.0000e+00]])"
      ]
     },
     "execution_count": 1106,
     "metadata": {},
     "output_type": "execute_result"
    }
   ],
   "source": [
    "ans = np.concatenate((pair.reshape(pair.shape[0], -1), ans.reshape(pair.shape[0], -1)), axis=1)\n",
    "ans"
   ]
  },
  {
   "cell_type": "code",
   "execution_count": 1107,
   "metadata": {},
   "outputs": [],
   "source": [
    "ans = pd.DataFrame(data=ans, dtype=int)\n",
    "ans.columns = ['pair_id', 'target']"
   ]
  },
  {
   "cell_type": "code",
   "execution_count": 1108,
   "metadata": {},
   "outputs": [],
   "source": [
    "ans.to_csv('answer_linreg.csv', sep=',', encoding='utf-8', index=False)"
   ]
  },
  {
   "cell_type": "markdown",
   "metadata": {},
   "source": [
    "С лучшими параметрами на валидации сделайте предсказание на тестовом множестве, отправьте его на проверку на платформу kaggle. Убедитесь, что Вы смогли побить public score первого бейзлайна. Если да, то Вы молодец!"
   ]
  },
  {
   "cell_type": "markdown",
   "metadata": {},
   "source": [
    "# Контрольные вопросы\n",
    "Постарайтесь максимально развернуто и честно ответить на вопросы. Они охватывают тему линейных моделей и скорее нужны преподавателям, чтобы понимать, что именно Вы усвоили плохо. Надеюсь, они подскажут, что именно в теме Вы не понимаете или наоборот порадают, что Вы все знаете ^_^"
   ]
  },
  {
   "cell_type": "markdown",
   "metadata": {},
   "source": [
    "* Опишите основные, на Ваш взгляд,  отличия логистической регрессии от линейной регрессии. Почему, на ваш взгляд, задачу классификации решают логистической, а не линейной регрессией?\n"
   ]
  },
  {
   "cell_type": "markdown",
   "metadata": {},
   "source": [
    "***Ваше ответ здесь***\n",
    "\n",
    "За счет сигмоиды в логистической регрессии мы получаем число от 0 до 1, что легче расценивать как вероятность, чем \"необработанный\" выход линейной регресии. Также из-за гладкости функции потерь лог.регрессии не должно быть скачков, когда на похожих данных получается разный ответ."
   ]
  },
  {
   "cell_type": "markdown",
   "metadata": {},
   "source": [
    "* Как Вы думаете, для каких типов задач (объем данных, число признаков, типы признаков) стоит отдавать предпочтение линейным моделям?"
   ]
  },
  {
   "cell_type": "markdown",
   "metadata": {},
   "source": [
    "***Ваше ответ здесь***\n",
    "\n",
    "Для задач с большими и однотипными признаками  модели линейные модели удобны, т.к. можно за счет мини батчей не загружать все данные одновременно. "
   ]
  },
  {
   "cell_type": "markdown",
   "metadata": {},
   "source": [
    "* Пусть на обучении мы имеем выборку размера $N$, число признаков $D$. Чему равна алгоритмическая сложность одного шага градиентного спуска? Cтохастического градиентного спуска?  Сложность предсказания на одном объекте?"
   ]
  },
  {
   "cell_type": "markdown",
   "metadata": {},
   "source": [
    "***Ваше ответ здесь***\n",
    "\n",
    "1) D * N\n",
    "\n",
    "2) D * batch_size\n",
    "\n",
    "3) D"
   ]
  },
  {
   "cell_type": "markdown",
   "metadata": {},
   "source": [
    "* В чем преимущества стохастического градиентного спуска (в том числе мини-батч) над обычным градиентным спуском? В чем его недостатки? Рассмотрите несколько аспектов $-$ скорость сходимости, необходимость загрузки всех данных в оперативную память, сложность вычисления одного шага."
   ]
  },
  {
   "cell_type": "markdown",
   "metadata": {},
   "source": [
    "***Ваше ответ здесь***\n",
    "\n",
    "За счет стохастического градиенты мы имеем возможность выиграть во времени т.к. мы оперируем с более маленькими объектами. Нет необходимости выгружать большие объемы данных в оперативную память, уменьшается сложность вычисления одного шага"
   ]
  },
  {
   "cell_type": "markdown",
   "metadata": {},
   "source": [
    "* Как Вы думаете, при обучении линейной модели с помощью SGD, ошибку на новом объекте стоит считать до итерации спуска на этом объекте или после? Почему Вы так думаете? Возможно, Вам будет интересно ознакомиться с http://hunch.net/~jl/projects/prediction_bounds/thesis/mathml/thesisse44.xml"
   ]
  },
  {
   "cell_type": "markdown",
   "metadata": {},
   "source": [
    "***Ваше ответ здесь***\n",
    "\n",
    "Кажется правильным считать после итерации спуска, потому что если смотреть на другую версию алгоритма, не когда мы итерируемся некоторое заданное число эпох, как в задании, а идем до тех пор пока лосс не станет меньше некоторого ожидаемого значения, то лосс нам нужен как раз после итерации спуска "
   ]
  },
  {
   "cell_type": "markdown",
   "metadata": {},
   "source": [
    "* Как Вы думаете, во времена такого бума нейронных сетей, остаются ли популярными линейные модели, или это уже пережиток прошлого? Почему Вы так думаете?"
   ]
  },
  {
   "cell_type": "markdown",
   "metadata": {},
   "source": [
    "***Ваше ответ здесь***\n",
    "\n",
    "Да, остаются, в силу простоты реализации и интерпритации их легко использовать в качестве базового решения, для оценки последующих. Также большое количество задач решается линейными моделями с очень приличной точностью, и поэтому нет необходимости использовать нейро сети"
   ]
  },
  {
   "cell_type": "markdown",
   "metadata": {},
   "source": [
    "* Какие аспекты обучения линейных моделей Вам показались непонятными? Какое место стоит дополнительно объяснить?"
   ]
  },
  {
   "cell_type": "markdown",
   "metadata": {},
   "source": [
    "***Ваше ответ здесь***"
   ]
  },
  {
   "cell_type": "markdown",
   "metadata": {},
   "source": [
    "Здесь Вы можете оставить отзыв о этой домашней работе или о всем курсе.   "
   ]
  },
  {
   "cell_type": "markdown",
   "metadata": {},
   "source": [
    "*** ВАШ ОТЗЫВ ЗДЕСЬ***"
   ]
  },
  {
   "cell_type": "code",
   "execution_count": null,
   "metadata": {
    "collapsed": true
   },
   "outputs": [],
   "source": []
  },
  {
   "cell_type": "code",
   "execution_count": null,
   "metadata": {
    "collapsed": true
   },
   "outputs": [],
   "source": []
  }
 ],
 "metadata": {
  "anaconda-cloud": {},
  "kernelspec": {
   "display_name": "Python 3",
   "language": "python",
   "name": "python3"
  },
  "language_info": {
   "codemirror_mode": {
    "name": "ipython",
    "version": 3
   },
   "file_extension": ".py",
   "mimetype": "text/x-python",
   "name": "python",
   "nbconvert_exporter": "python",
   "pygments_lexer": "ipython3",
   "version": "3.7.1"
  },
  "nav_menu": {},
  "toc": {
   "colors": {
    "hover_highlight": "#DAA520",
    "navigate_num": "#000000",
    "navigate_text": "#333333",
    "running_highlight": "#FF0000",
    "selected_highlight": "#FFD700",
    "sidebar_border": "#EEEEEE",
    "wrapper_background": "#FFFFFF"
   },
   "moveMenuLeft": true,
   "nav_menu": {
    "height": "402px",
    "width": "253px"
   },
   "navigate_menu": true,
   "number_sections": false,
   "sideBar": true,
   "threshold": 4,
   "toc_cell": false,
   "toc_section_display": "block",
   "toc_window_display": true,
   "widenNotebook": false
  }
 },
 "nbformat": 4,
 "nbformat_minor": 2
}
