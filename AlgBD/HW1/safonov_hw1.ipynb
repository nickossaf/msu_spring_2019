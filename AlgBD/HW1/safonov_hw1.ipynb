{
 "cells": [
  {
   "cell_type": "markdown",
   "metadata": {},
   "source": [
    "**Общая информация**\n",
    "\n",
    "**Срок сдачи:** 20 марта 2019, 06:00 <br\\>\n",
    "**Штраф за опоздание:** -1 балл после 06:00 20 марта, -2 балла после 06:00 27 марта, -3 балла после 06:00 3 апреля\n",
    "\n",
    "При отправлении ДЗ указывайте фамилию в названии файла\n",
    "Присылать ДЗ необходимо в виде ссылки на свой github репозиторий в slack @alkhamush\n",
    "\n",
    "Необходимо в slack скинуть ссылку в личный чат @alkhamush\n",
    "Пример ссылки:\n",
    "https://github.com/stroykova/spheremailru/stroykova_hw1.ipynb \n",
    "\n",
    "\n",
    "Используйте данный Ipython Notebook при оформлении домашнего задания."
   ]
  },
  {
   "cell_type": "markdown",
   "metadata": {},
   "source": [
    "###### Задание 1 (2 баллов)\n",
    "Реализовать KNN в классе MyKNeighborsClassifier (обязательное условие: точность не ниже sklearn реализации)\n",
    "Разберитесь самостоятельно, какая мера расстояния используется в KNeighborsClassifier дефолтно и реализуйте свой алгоритм именно с этой мерой. Самостоятельно разберитесь, как считается score из KNeighborsClassifier и реализуйте аналог в своём классе. Score не должен уступать значению KNN из sklearn\n",
    "\n",
    "###### Задание 2 (2 балла)\n",
    "Добиться скорости работы на fit,  predict и predict_proba сравнимой со sklearn для iris и mnist\n",
    "Для этого используем numpy\n",
    "\n",
    "###### Задание 3 (2 балла)\n",
    "Для iris найдите такой параметр n_neighbors, при котором выдаётся наилучший score. Нарисуйте график зависимости score от n_neighbors\n",
    "\n",
    "###### Задание 4 (3 балла)\n",
    "Добавить algorithm='kd_tree' в реализацию KNN (использовать KDTree из sklearn.neighbors). Значение n_neighbors нужно взять из задания 3. Добиться скорости работы на fit,  predict и predict_proba сравнимой со sklearn для iris и mnist\n",
    "Для этого используем numpy. Score не должен уступать значению KNN из sklearn\n",
    "\n",
    "###### Задание 5 (1 балла)\n",
    "Описать для чего нужны следующие библиотеки/классы/функции (список будет ниже)\n",
    "\n",
    "**Штрафные баллы:**\n",
    "\n",
    "1. Невыполнение PEP8 -1 балл\n",
    "2. Отсутствие фамилии в имени скрипта (скрипт должен называться по аналогии со stroykova_hw1.ipynb) -1 балл\n",
    "3. Все строчки должны быть выполнены. Нужно, чтобы output команды можно было увидеть уже в git'е. В противном случае -1 балл\n",
    "4. При оформлении ДЗ нужно пользоваться данным файлом в качестве шаблона. Не нужно удалять и видоизменять структуру кода и текст. В противном случае -1 балл\n"
   ]
  },
  {
   "cell_type": "code",
   "execution_count": 1,
   "metadata": {},
   "outputs": [],
   "source": [
    "import numpy as np\n",
    "import matplotlib.pyplot as plt\n",
    "import scipy\n",
    "\n",
    "import seaborn as sns\n",
    "from sklearn import datasets\n",
    "from sklearn.base import ClassifierMixin\n",
    "from sklearn.datasets import fetch_mldata\n",
    "from sklearn.datasets import fetch_openml #!!!\n",
    "from sklearn.neighbors.base import NeighborsBase, KNeighborsMixin, SupervisedIntegerMixin \n",
    "from sklearn.model_selection import train_test_split\n",
    "from sklearn.neighbors import KNeighborsClassifier\n",
    "%load_ext pycodestyle_magic"
   ]
  },
  {
   "cell_type": "code",
   "execution_count": 3,
   "metadata": {},
   "outputs": [
    {
     "name": "stderr",
     "output_type": "stream",
     "text": [
      "58:1: W391 blank line at end of file\n"
     ]
    }
   ],
   "source": [
    "%%pycodestyle\n",
    "\n",
    "from scipy.spatial import distance\n",
    "from sklearn.neighbors import KDTree\n",
    "from sklearn.metrics import accuracy_score\n",
    "\n",
    "\n",
    "class MyKNeighborsClassifier(NeighborsBase, KNeighborsMixin,\n",
    "                             SupervisedIntegerMixin, ClassifierMixin):\n",
    "\n",
    "    def __init__(self, n_neighbors=5, algorithm='brute'):\n",
    "        self.n_neighbors = n_neighbors\n",
    "        self.algorithm = algorithm\n",
    "        pass\n",
    "\n",
    "    def fit(self, X, y):\n",
    "        self.data_train = np.array(X)\n",
    "        self.train_ans = np.array(y)\n",
    "        self.classes = np.unique(y)\n",
    "        self.n_classes = self.classes.shape[0]\n",
    "        if(self.algorithm == 'kd_tree'):\n",
    "            self.tree = KDTree(X)\n",
    "        pass\n",
    "\n",
    "    def predict(self, X):\n",
    "        if(self.algorithm == 'kd_tree'):\n",
    "            dist, neighbors = self.tree.query(X, k=self.n_neighbors)\n",
    "        else:\n",
    "            dist = distance.cdist(X, self.data_train, 'minkowski')\n",
    "            neighbors = np.argpartition(dist, self.n_neighbors, axis=1)\n",
    "        neighbor_class = self.train_ans[neighbors[:, :self.n_neighbors:]]\n",
    "        classes, counts = scipy.stats.mode(neighbor_class, axis=1)\n",
    "        return classes.T\n",
    "        pass\n",
    "\n",
    "    def predict_proba(self, X):\n",
    "        if(self.algorithm == 'kd_tree'):\n",
    "            dist, neighbors = self.tree.query(X, k=self.n_neighbors)\n",
    "        else:\n",
    "            dist = distance.cdist(X, self.data_train, 'minkowski')\n",
    "            neighbors = np.argpartition(dist, self.n_neighbors, axis=1)\n",
    "        dtype_ = self.classes.dtype\n",
    "        mask = np.empty(shape=(X.shape[0], self.n_classes), dtype=dtype_)\n",
    "        mask[:] = self.classes\n",
    "        neighbor_class = self.train_ans[neighbors[:, :self.n_neighbors:]]\n",
    "        neighbors = np.concatenate([neighbor_class, mask], axis=1)\n",
    "        neighbors = neighbors.astype(int, casting=\"unsafe\")\n",
    "        freq = np.apply_along_axis(np.bincount, 1, neighbors)\n",
    "        prob = (freq - 1) / self.n_neighbors\n",
    "        return prob\n",
    "        pass\n",
    "\n",
    "    def score(self, X, y):\n",
    "        y = y.astype(int, casting=\"unsafe\")\n",
    "        X = self.predict(X).astype(int, casting=\"unsafe\")\n",
    "        return y[np.where(y == X)[0]].shape[0] / y.shape[0]\n",
    "        pass"
   ]
  },
  {
   "cell_type": "markdown",
   "metadata": {},
   "source": [
    "**IRIS**"
   ]
  },
  {
   "cell_type": "code",
   "execution_count": 4,
   "metadata": {},
   "outputs": [],
   "source": [
    "iris = datasets.load_iris()"
   ]
  },
  {
   "cell_type": "code",
   "execution_count": 5,
   "metadata": {},
   "outputs": [],
   "source": [
    "X_train, X_test, y_train, y_test = train_test_split(iris.data, iris.target, test_size=0.1, stratify=iris.target)"
   ]
  },
  {
   "cell_type": "code",
   "execution_count": 6,
   "metadata": {},
   "outputs": [],
   "source": [
    "clf = KNeighborsClassifier(n_neighbors=2)\n",
    "my_clf = MyKNeighborsClassifier(n_neighbors=2)"
   ]
  },
  {
   "cell_type": "code",
   "execution_count": 7,
   "metadata": {},
   "outputs": [
    {
     "name": "stdout",
     "output_type": "stream",
     "text": [
      "Wall time: 2 ms\n"
     ]
    },
    {
     "data": {
      "text/plain": [
       "KNeighborsClassifier(algorithm='auto', leaf_size=30, metric='minkowski',\n",
       "           metric_params=None, n_jobs=None, n_neighbors=2, p=2,\n",
       "           weights='uniform')"
      ]
     },
     "execution_count": 7,
     "metadata": {},
     "output_type": "execute_result"
    }
   ],
   "source": [
    "%time clf.fit(X_train, y_train)"
   ]
  },
  {
   "cell_type": "code",
   "execution_count": 8,
   "metadata": {},
   "outputs": [
    {
     "name": "stdout",
     "output_type": "stream",
     "text": [
      "Wall time: 0 ns\n"
     ]
    }
   ],
   "source": [
    "%time my_clf.fit(X_train, y_train)"
   ]
  },
  {
   "cell_type": "code",
   "execution_count": 9,
   "metadata": {},
   "outputs": [
    {
     "name": "stdout",
     "output_type": "stream",
     "text": [
      "Wall time: 2 ms\n"
     ]
    },
    {
     "data": {
      "text/plain": [
       "array([1, 2, 0, 0, 2, 1, 1, 0, 0, 1, 2, 2, 1, 1, 0])"
      ]
     },
     "execution_count": 9,
     "metadata": {},
     "output_type": "execute_result"
    }
   ],
   "source": [
    "%time clf.predict(X_test)"
   ]
  },
  {
   "cell_type": "code",
   "execution_count": 10,
   "metadata": {},
   "outputs": [
    {
     "name": "stdout",
     "output_type": "stream",
     "text": [
      "Wall time: 995 µs\n"
     ]
    },
    {
     "data": {
      "text/plain": [
       "array([[1, 2, 0, 0, 2, 1, 1, 0, 0, 1, 2, 2, 1, 1, 0]])"
      ]
     },
     "execution_count": 10,
     "metadata": {},
     "output_type": "execute_result"
    }
   ],
   "source": [
    "%time my_clf.predict(X_test)"
   ]
  },
  {
   "cell_type": "code",
   "execution_count": 11,
   "metadata": {},
   "outputs": [
    {
     "name": "stdout",
     "output_type": "stream",
     "text": [
      "Wall time: 2 ms\n"
     ]
    },
    {
     "data": {
      "text/plain": [
       "array([[0., 1., 0.],\n",
       "       [0., 0., 1.],\n",
       "       [1., 0., 0.],\n",
       "       [1., 0., 0.],\n",
       "       [0., 0., 1.],\n",
       "       [0., 1., 0.],\n",
       "       [0., 1., 0.],\n",
       "       [1., 0., 0.],\n",
       "       [1., 0., 0.],\n",
       "       [0., 1., 0.],\n",
       "       [0., 0., 1.],\n",
       "       [0., 0., 1.],\n",
       "       [0., 1., 0.],\n",
       "       [0., 1., 0.],\n",
       "       [1., 0., 0.]])"
      ]
     },
     "execution_count": 11,
     "metadata": {},
     "output_type": "execute_result"
    }
   ],
   "source": [
    "%time clf.predict_proba(X_test)"
   ]
  },
  {
   "cell_type": "code",
   "execution_count": 12,
   "metadata": {},
   "outputs": [
    {
     "name": "stdout",
     "output_type": "stream",
     "text": [
      "Wall time: 999 µs\n"
     ]
    },
    {
     "data": {
      "text/plain": [
       "array([[0., 1., 0.],\n",
       "       [0., 0., 1.],\n",
       "       [1., 0., 0.],\n",
       "       [1., 0., 0.],\n",
       "       [0., 0., 1.],\n",
       "       [0., 1., 0.],\n",
       "       [0., 1., 0.],\n",
       "       [1., 0., 0.],\n",
       "       [1., 0., 0.],\n",
       "       [0., 1., 0.],\n",
       "       [0., 0., 1.],\n",
       "       [0., 0., 1.],\n",
       "       [0., 1., 0.],\n",
       "       [0., 1., 0.],\n",
       "       [1., 0., 0.]])"
      ]
     },
     "execution_count": 12,
     "metadata": {},
     "output_type": "execute_result"
    }
   ],
   "source": [
    "%time my_clf.predict_proba(X_test)"
   ]
  },
  {
   "cell_type": "code",
   "execution_count": 13,
   "metadata": {},
   "outputs": [
    {
     "data": {
      "text/plain": [
       "0.9333333333333333"
      ]
     },
     "execution_count": 13,
     "metadata": {},
     "output_type": "execute_result"
    }
   ],
   "source": [
    "clf.score(X_test, y_test)"
   ]
  },
  {
   "cell_type": "code",
   "execution_count": 14,
   "metadata": {},
   "outputs": [
    {
     "data": {
      "text/plain": [
       "0.9333333333333333"
      ]
     },
     "execution_count": 14,
     "metadata": {},
     "output_type": "execute_result"
    }
   ],
   "source": [
    "my_clf.score(X_test, y_test)"
   ]
  },
  {
   "cell_type": "markdown",
   "metadata": {},
   "source": [
    "Задание 3"
   ]
  },
  {
   "cell_type": "code",
   "execution_count": 15,
   "metadata": {},
   "outputs": [
    {
     "data": {
      "text/plain": [
       "[<matplotlib.lines.Line2D at 0x2e2f0cf6390>]"
      ]
     },
     "execution_count": 15,
     "metadata": {},
     "output_type": "execute_result"
    },
    {
     "data": {
      "image/png": "[encoded data removed]",
      "text/plain": [
       "<Figure size 432x288 with 1 Axes>"
      ]
     },
     "metadata": {
      "needs_background": "light"
     },
     "output_type": "display_data"
    }
   ],
   "source": [
    "iris = datasets.load_iris()\n",
    "X_train, X_test, y_train, y_test = train_test_split(iris.data, iris.target, test_size=0.1, stratify=iris.target)\n",
    "my_clf = MyKNeighborsClassifier(n_neighbors=1)\n",
    "target_size = 101\n",
    "y = np.zeros(shape=target_size)\n",
    "for i in range(target_size - 1):\n",
    "    my_clf.n_neighbors = i + 1\n",
    "    my_clf.fit(X_train, y_train)\n",
    "    my_clf.predict(X_test)\n",
    "    y[i+1] = my_clf.score(X_test, y_test)\n",
    "plt.plot(range(target_size), y)"
   ]
  },
  {
   "cell_type": "markdown",
   "metadata": {},
   "source": [
    "**MNIST**"
   ]
  },
  {
   "cell_type": "code",
   "execution_count": 16,
   "metadata": {},
   "outputs": [],
   "source": [
    "mnist = fetch_openml('mnist_784')"
   ]
  },
  {
   "cell_type": "code",
   "execution_count": 17,
   "metadata": {},
   "outputs": [],
   "source": [
    "X_train, X_test, y_train, y_test = train_test_split(mnist.data, mnist.target, test_size=0.01, stratify=mnist.target)"
   ]
  },
  {
   "cell_type": "code",
   "execution_count": 18,
   "metadata": {},
   "outputs": [],
   "source": [
    "clf = KNeighborsClassifier(n_neighbors=2)\n",
    "my_clf = MyKNeighborsClassifier(n_neighbors=2)"
   ]
  },
  {
   "cell_type": "code",
   "execution_count": 19,
   "metadata": {},
   "outputs": [
    {
     "name": "stdout",
     "output_type": "stream",
     "text": [
      "Wall time: 1min 55s\n"
     ]
    },
    {
     "data": {
      "text/plain": [
       "KNeighborsClassifier(algorithm='auto', leaf_size=30, metric='minkowski',\n",
       "           metric_params=None, n_jobs=None, n_neighbors=2, p=2,\n",
       "           weights='uniform')"
      ]
     },
     "execution_count": 19,
     "metadata": {},
     "output_type": "execute_result"
    }
   ],
   "source": [
    "%time clf.fit(X_train, y_train)"
   ]
  },
  {
   "cell_type": "code",
   "execution_count": 20,
   "metadata": {},
   "outputs": [
    {
     "name": "stdout",
     "output_type": "stream",
     "text": [
      "Wall time: 1.17 s\n"
     ]
    }
   ],
   "source": [
    "%time my_clf.fit(X_train, y_train)"
   ]
  },
  {
   "cell_type": "code",
   "execution_count": 21,
   "metadata": {},
   "outputs": [
    {
     "name": "stdout",
     "output_type": "stream",
     "text": [
      "Wall time: 4min 6s\n"
     ]
    },
    {
     "data": {
      "text/plain": [
       "array(['1', '1', '8', '0', '7', '7', '6', '1', '7', '4', '3', '5', '7',\n",
       "       '7', '5', '2', '1', '8', '9', '5', '8', '3', '7', '4', '7', '4',\n",
       "       '1', '9', '6', '3', '3', '3', '0', '0', '5', '1', '2', '7', '4',\n",
       "       '1', '9', '8', '6', '0', '8', '4', '6', '6', '8', '6', '9', '1',\n",
       "       '8', '3', '7', '6', '6', '0', '7', '6', '0', '8', '8', '9', '0',\n",
       "       '0', '2', '9', '3', '5', '8', '2', '5', '4', '6', '0', '7', '9',\n",
       "       '6', '9', '3', '7', '9', '4', '6', '1', '0', '0', '3', '6', '1',\n",
       "       '5', '0', '3', '6', '2', '9', '9', '3', '2', '4', '8', '2', '1',\n",
       "       '5', '5', '1', '5', '5', '6', '6', '3', '2', '0', '9', '7', '7',\n",
       "       '2', '0', '4', '1', '0', '7', '3', '7', '2', '4', '4', '2', '1',\n",
       "       '0', '8', '6', '6', '5', '2', '5', '4', '6', '8', '1', '6', '4',\n",
       "       '6', '2', '8', '9', '0', '8', '0', '3', '2', '6', '2', '7', '3',\n",
       "       '1', '5', '4', '2', '3', '4', '9', '8', '1', '0', '7', '7', '6',\n",
       "       '9', '4', '0', '5', '2', '4', '3', '8', '3', '7', '7', '0', '8',\n",
       "       '2', '8', '4', '0', '3', '1', '0', '2', '1', '1', '5', '5', '4',\n",
       "       '1', '4', '1', '8', '7', '7', '5', '7', '3', '0', '9', '9', '5',\n",
       "       '3', '7', '3', '6', '1', '7', '1', '8', '3', '4', '7', '9', '4',\n",
       "       '7', '2', '6', '6', '6', '1', '1', '4', '5', '4', '2', '6', '6',\n",
       "       '5', '2', '4', '5', '3', '4', '2', '9', '2', '3', '3', '9', '8',\n",
       "       '0', '8', '7', '9', '2', '3', '5', '2', '8', '9', '8', '1', '3',\n",
       "       '1', '0', '8', '8', '9', '0', '9', '3', '8', '9', '3', '0', '3',\n",
       "       '2', '1', '2', '3', '4', '6', '9', '6', '5', '7', '4', '4', '5',\n",
       "       '5', '7', '3', '8', '4', '2', '7', '9', '9', '4', '1', '6', '0',\n",
       "       '6', '8', '5', '0', '1', '0', '1', '0', '4', '0', '1', '9', '8',\n",
       "       '2', '7', '4', '6', '5', '5', '2', '5', '8', '0', '9', '8', '9',\n",
       "       '7', '7', '1', '2', '8', '5', '9', '1', '7', '6', '0', '2', '7',\n",
       "       '5', '3', '9', '1', '6', '8', '2', '4', '5', '3', '2', '3', '9',\n",
       "       '6', '4', '7', '8', '0', '8', '2', '3', '5', '2', '8', '7', '5',\n",
       "       '5', '2', '6', '7', '0', '7', '2', '3', '8', '1', '7', '8', '6',\n",
       "       '9', '8', '7', '5', '2', '7', '9', '1', '6', '3', '4', '1', '1',\n",
       "       '6', '1', '6', '0', '0', '8', '4', '5', '1', '5', '4', '3', '1',\n",
       "       '1', '0', '3', '3', '5', '7', '2', '3', '8', '7', '7', '5', '7',\n",
       "       '2', '1', '2', '0', '3', '5', '7', '5', '7', '3', '1', '4', '6',\n",
       "       '2', '7', '8', '5', '6', '9', '2', '4', '2', '0', '9', '1', '3',\n",
       "       '4', '7', '7', '2', '9', '5', '9', '7', '0', '1', '9', '4', '8',\n",
       "       '5', '6', '0', '6', '5', '7', '0', '0', '6', '9', '7', '4', '3',\n",
       "       '4', '5', '4', '3', '2', '6', '5', '4', '7', '6', '9', '6', '1',\n",
       "       '6', '1', '7', '7', '9', '2', '3', '6', '5', '7', '4', '8', '3',\n",
       "       '0', '4', '5', '7', '1', '3', '0', '4', '1', '8', '8', '4', '9',\n",
       "       '4', '1', '5', '0', '4', '0', '8', '4', '1', '6', '7', '8', '9',\n",
       "       '1', '3', '2', '1', '7', '9', '2', '6', '8', '3', '2', '4', '6',\n",
       "       '5', '0', '1', '2', '4', '0', '1', '6', '8', '0', '4', '6', '9',\n",
       "       '0', '6', '3', '9', '3', '6', '1', '3', '2', '2', '1', '8', '6',\n",
       "       '2', '1', '2', '9', '1', '5', '5', '1', '3', '0', '2', '5', '9',\n",
       "       '5', '3', '6', '9', '0', '1', '9', '1', '0', '8', '2', '1', '1',\n",
       "       '0', '2', '3', '1', '3', '7', '6', '7', '1', '7', '1', '0', '7',\n",
       "       '9', '4', '3', '7', '5', '9', '9', '7', '6', '5', '0', '9', '2',\n",
       "       '8', '9', '9', '1', '4', '1', '7', '0', '9', '5', '4', '8', '7',\n",
       "       '9', '2', '4', '9', '3', '2', '2', '0', '4', '0', '1', '6', '0',\n",
       "       '0', '8', '2', '6', '8', '2', '2', '9', '9', '6', '9', '1', '1',\n",
       "       '3', '6', '0', '8', '6', '1', '4', '8', '4', '5', '9', '0', '4',\n",
       "       '3', '4', '1', '0', '3', '8', '4', '3', '1', '1', '5', '9', '2',\n",
       "       '3', '5', '0', '4', '1', '8', '3', '7', '3', '4', '7', '1', '2',\n",
       "       '1', '8', '3', '3', '4', '0', '3', '3', '2', '2', '4'],\n",
       "      dtype=object)"
      ]
     },
     "execution_count": 21,
     "metadata": {},
     "output_type": "execute_result"
    }
   ],
   "source": [
    "%time clf.predict(X_test)"
   ]
  },
  {
   "cell_type": "code",
   "execution_count": 22,
   "metadata": {},
   "outputs": [
    {
     "name": "stderr",
     "output_type": "stream",
     "text": [
      "C:\\Users\\nikol\\Anaconda\\lib\\site-packages\\scipy\\stats\\stats.py:245: RuntimeWarning: The input array could not be properly checked for nan values. nan values will be ignored.\n",
      "  \"values. nan values will be ignored.\", RuntimeWarning)\n"
     ]
    },
    {
     "name": "stdout",
     "output_type": "stream",
     "text": [
      "Wall time: 40min\n"
     ]
    },
    {
     "data": {
      "text/plain": [
       "array([['1', '1', '8', '0', '7', '7', '6', '1', '7', '4', '3', '5', '7',\n",
       "        '7', '5', '2', '1', '8', '9', '5', '8', '3', '7', '4', '7', '4',\n",
       "        '1', '9', '6', '3', '3', '3', '0', '0', '5', '1', '2', '7', '4',\n",
       "        '1', '9', '8', '6', '0', '8', '4', '6', '6', '8', '6', '9', '1',\n",
       "        '8', '3', '7', '6', '6', '0', '7', '6', '0', '8', '8', '9', '0',\n",
       "        '0', '2', '9', '3', '5', '8', '2', '5', '4', '6', '0', '7', '9',\n",
       "        '6', '9', '3', '7', '9', '4', '6', '1', '0', '0', '3', '6', '1',\n",
       "        '5', '0', '3', '6', '2', '9', '9', '3', '2', '4', '8', '2', '1',\n",
       "        '5', '5', '1', '5', '5', '6', '6', '3', '2', '0', '9', '7', '7',\n",
       "        '2', '0', '4', '1', '0', '7', '3', '7', '2', '4', '4', '2', '1',\n",
       "        '0', '8', '6', '6', '5', '2', '5', '4', '6', '8', '1', '6', '4',\n",
       "        '6', '2', '8', '9', '0', '8', '0', '3', '2', '6', '2', '7', '3',\n",
       "        '1', '5', '4', '2', '3', '4', '9', '8', '1', '0', '7', '7', '6',\n",
       "        '9', '4', '0', '5', '2', '4', '3', '8', '3', '7', '7', '0', '8',\n",
       "        '2', '8', '4', '0', '3', '1', '0', '2', '1', '1', '5', '5', '4',\n",
       "        '1', '4', '1', '8', '7', '7', '5', '7', '3', '0', '9', '9', '5',\n",
       "        '3', '7', '3', '6', '1', '7', '1', '8', '3', '4', '7', '9', '4',\n",
       "        '7', '2', '6', '6', '6', '1', '1', '4', '5', '4', '2', '6', '6',\n",
       "        '5', '2', '4', '5', '3', '4', '2', '9', '2', '3', '3', '9', '8',\n",
       "        '0', '8', '7', '9', '2', '3', '5', '2', '8', '9', '8', '1', '3',\n",
       "        '1', '0', '8', '8', '9', '0', '9', '3', '8', '9', '3', '0', '3',\n",
       "        '2', '1', '2', '3', '4', '6', '9', '6', '5', '7', '4', '4', '5',\n",
       "        '5', '7', '3', '8', '4', '2', '7', '9', '9', '4', '1', '6', '0',\n",
       "        '6', '8', '5', '0', '1', '0', '1', '0', '4', '0', '1', '9', '8',\n",
       "        '2', '7', '4', '6', '5', '5', '2', '5', '8', '0', '9', '8', '9',\n",
       "        '7', '7', '1', '2', '8', '5', '9', '1', '7', '6', '0', '2', '7',\n",
       "        '5', '3', '9', '1', '6', '8', '2', '4', '5', '3', '2', '3', '9',\n",
       "        '6', '4', '7', '8', '0', '8', '2', '3', '5', '2', '8', '7', '5',\n",
       "        '5', '2', '6', '7', '0', '7', '2', '3', '8', '1', '7', '8', '6',\n",
       "        '9', '8', '7', '5', '2', '7', '9', '1', '6', '3', '4', '1', '1',\n",
       "        '6', '1', '6', '0', '0', '8', '4', '5', '1', '5', '4', '3', '1',\n",
       "        '1', '0', '3', '3', '5', '7', '2', '3', '8', '7', '7', '5', '7',\n",
       "        '2', '1', '2', '0', '3', '5', '7', '5', '7', '3', '1', '4', '6',\n",
       "        '2', '7', '8', '5', '6', '9', '2', '4', '2', '0', '9', '1', '3',\n",
       "        '4', '7', '7', '2', '9', '5', '9', '7', '0', '1', '9', '4', '8',\n",
       "        '5', '6', '0', '6', '5', '7', '0', '0', '6', '9', '7', '4', '3',\n",
       "        '4', '5', '4', '3', '2', '6', '5', '4', '7', '6', '9', '6', '1',\n",
       "        '6', '1', '7', '7', '9', '2', '3', '6', '5', '7', '4', '8', '3',\n",
       "        '0', '4', '5', '7', '1', '3', '0', '4', '1', '8', '8', '4', '9',\n",
       "        '4', '1', '5', '0', '4', '0', '8', '4', '1', '6', '7', '8', '9',\n",
       "        '1', '3', '2', '1', '7', '9', '2', '6', '8', '3', '2', '4', '6',\n",
       "        '5', '0', '1', '2', '4', '0', '1', '6', '8', '0', '4', '6', '9',\n",
       "        '0', '6', '3', '9', '3', '6', '1', '3', '2', '2', '1', '8', '6',\n",
       "        '2', '1', '2', '9', '1', '5', '5', '1', '3', '0', '2', '5', '9',\n",
       "        '5', '3', '6', '9', '0', '1', '9', '1', '0', '8', '2', '1', '1',\n",
       "        '0', '2', '3', '1', '3', '7', '6', '7', '1', '7', '1', '0', '7',\n",
       "        '9', '4', '3', '7', '5', '9', '9', '7', '6', '5', '0', '9', '2',\n",
       "        '8', '9', '9', '1', '4', '1', '7', '0', '9', '5', '4', '8', '7',\n",
       "        '9', '2', '4', '9', '3', '2', '2', '0', '4', '0', '1', '6', '0',\n",
       "        '0', '8', '2', '6', '8', '2', '2', '9', '9', '6', '9', '1', '1',\n",
       "        '3', '6', '0', '8', '6', '1', '4', '8', '4', '5', '9', '0', '4',\n",
       "        '3', '4', '1', '0', '3', '8', '4', '3', '1', '1', '5', '9', '2',\n",
       "        '3', '5', '0', '4', '1', '8', '3', '7', '3', '4', '7', '1', '2',\n",
       "        '1', '8', '3', '3', '4', '0', '3', '3', '2', '2', '4']],\n",
       "      dtype=object)"
      ]
     },
     "execution_count": 22,
     "metadata": {},
     "output_type": "execute_result"
    }
   ],
   "source": [
    "%time my_clf.predict(X_test)"
   ]
  },
  {
   "cell_type": "code",
   "execution_count": 23,
   "metadata": {},
   "outputs": [
    {
     "name": "stdout",
     "output_type": "stream",
     "text": [
      "Wall time: 3min 49s\n"
     ]
    },
    {
     "data": {
      "text/plain": [
       "array([[0., 1., 0., ..., 0., 0., 0.],\n",
       "       [0., 1., 0., ..., 0., 0., 0.],\n",
       "       [0., 0., 0., ..., 0., 1., 0.],\n",
       "       ...,\n",
       "       [0., 0., 1., ..., 0., 0., 0.],\n",
       "       [0., 0., 1., ..., 0., 0., 0.],\n",
       "       [0., 0., 0., ..., 0., 0., 0.]])"
      ]
     },
     "execution_count": 23,
     "metadata": {},
     "output_type": "execute_result"
    }
   ],
   "source": [
    "%time clf.predict_proba(X_test)"
   ]
  },
  {
   "cell_type": "code",
   "execution_count": 24,
   "metadata": {},
   "outputs": [
    {
     "name": "stdout",
     "output_type": "stream",
     "text": [
      "Wall time: 33min 49s\n"
     ]
    },
    {
     "data": {
      "text/plain": [
       "array([[0., 1., 0., ..., 0., 0., 0.],\n",
       "       [0., 1., 0., ..., 0., 0., 0.],\n",
       "       [0., 0., 0., ..., 0., 1., 0.],\n",
       "       ...,\n",
       "       [0., 0., 1., ..., 0., 0., 0.],\n",
       "       [0., 0., 1., ..., 0., 0., 0.],\n",
       "       [0., 0., 0., ..., 0., 0., 0.]])"
      ]
     },
     "execution_count": 24,
     "metadata": {},
     "output_type": "execute_result"
    }
   ],
   "source": [
    "%time my_clf.predict_proba(X_test)"
   ]
  },
  {
   "cell_type": "code",
   "execution_count": 25,
   "metadata": {},
   "outputs": [
    {
     "data": {
      "text/plain": [
       "0.9771428571428571"
      ]
     },
     "execution_count": 25,
     "metadata": {},
     "output_type": "execute_result"
    }
   ],
   "source": [
    "clf.score(X_test, y_test)"
   ]
  },
  {
   "cell_type": "code",
   "execution_count": 26,
   "metadata": {},
   "outputs": [
    {
     "name": "stderr",
     "output_type": "stream",
     "text": [
      "C:\\Users\\nikol\\Anaconda\\lib\\site-packages\\scipy\\stats\\stats.py:245: RuntimeWarning: The input array could not be properly checked for nan values. nan values will be ignored.\n",
      "  \"values. nan values will be ignored.\", RuntimeWarning)\n"
     ]
    },
    {
     "data": {
      "text/plain": [
       "0.9771428571428571"
      ]
     },
     "execution_count": 26,
     "metadata": {},
     "output_type": "execute_result"
    }
   ],
   "source": [
    "my_clf.score(X_test, y_test)"
   ]
  },
  {
   "cell_type": "markdown",
   "metadata": {},
   "source": [
    "Задание 4"
   ]
  },
  {
   "cell_type": "code",
   "execution_count": 27,
   "metadata": {},
   "outputs": [],
   "source": [
    "clf = KNeighborsClassifier(n_neighbors=2, algorithm='kd_tree')\n",
    "my_clf = MyKNeighborsClassifier(n_neighbors=2, algorithm='kd_tree')"
   ]
  },
  {
   "cell_type": "code",
   "execution_count": 28,
   "metadata": {},
   "outputs": [],
   "source": [
    "X_train, X_test, y_train, y_test = train_test_split(mnist.data, mnist.target, test_size=0.01, stratify=mnist.target)"
   ]
  },
  {
   "cell_type": "code",
   "execution_count": 29,
   "metadata": {},
   "outputs": [
    {
     "name": "stdout",
     "output_type": "stream",
     "text": [
      "Wall time: 2min 1s\n"
     ]
    },
    {
     "data": {
      "text/plain": [
       "KNeighborsClassifier(algorithm='kd_tree', leaf_size=30, metric='minkowski',\n",
       "           metric_params=None, n_jobs=None, n_neighbors=2, p=2,\n",
       "           weights='uniform')"
      ]
     },
     "execution_count": 29,
     "metadata": {},
     "output_type": "execute_result"
    }
   ],
   "source": [
    "%time clf.fit(X_train, y_train)"
   ]
  },
  {
   "cell_type": "code",
   "execution_count": 30,
   "metadata": {},
   "outputs": [
    {
     "name": "stdout",
     "output_type": "stream",
     "text": [
      "Wall time: 2min 32s\n"
     ]
    }
   ],
   "source": [
    "%time my_clf.fit(X_train, y_train)"
   ]
  },
  {
   "cell_type": "code",
   "execution_count": 31,
   "metadata": {},
   "outputs": [
    {
     "name": "stdout",
     "output_type": "stream",
     "text": [
      "Wall time: 3min 49s\n"
     ]
    },
    {
     "data": {
      "text/plain": [
       "array(['8', '8', '5', '1', '2', '4', '1', '9', '2', '6', '9', '6', '5',\n",
       "       '3', '5', '9', '0', '0', '6', '7', '7', '5', '0', '4', '1', '1',\n",
       "       '4', '3', '9', '0', '3', '4', '6', '3', '2', '2', '7', '3', '1',\n",
       "       '5', '3', '0', '1', '5', '4', '9', '0', '4', '2', '8', '6', '2',\n",
       "       '5', '1', '2', '6', '2', '8', '3', '0', '1', '1', '2', '5', '9',\n",
       "       '3', '0', '3', '5', '0', '8', '7', '6', '9', '1', '0', '6', '9',\n",
       "       '5', '2', '9', '0', '0', '1', '1', '0', '2', '7', '3', '3', '6',\n",
       "       '4', '6', '5', '2', '8', '7', '0', '9', '8', '8', '3', '5', '4',\n",
       "       '6', '0', '1', '8', '6', '9', '9', '7', '0', '0', '6', '0', '5',\n",
       "       '7', '2', '8', '1', '7', '3', '2', '9', '4', '2', '9', '4', '4',\n",
       "       '5', '4', '3', '3', '0', '1', '3', '7', '3', '5', '8', '5', '4',\n",
       "       '0', '3', '7', '5', '5', '2', '1', '4', '3', '6', '4', '0', '6',\n",
       "       '8', '7', '2', '6', '6', '6', '9', '1', '6', '3', '7', '2', '9',\n",
       "       '1', '7', '1', '2', '6', '5', '1', '6', '1', '0', '1', '0', '2',\n",
       "       '1', '2', '6', '5', '8', '5', '3', '4', '7', '4', '2', '6', '3',\n",
       "       '4', '6', '3', '5', '3', '2', '0', '3', '6', '1', '9', '3', '8',\n",
       "       '7', '4', '1', '3', '3', '0', '0', '3', '1', '9', '7', '5', '1',\n",
       "       '2', '8', '7', '0', '5', '1', '7', '2', '8', '2', '1', '6', '6',\n",
       "       '2', '5', '4', '0', '7', '3', '1', '1', '2', '4', '6', '8', '9',\n",
       "       '8', '0', '2', '4', '4', '4', '2', '7', '1', '1', '2', '5', '8',\n",
       "       '1', '7', '5', '0', '0', '2', '6', '3', '8', '9', '6', '2', '2',\n",
       "       '7', '9', '4', '0', '5', '8', '4', '7', '9', '4', '1', '3', '5',\n",
       "       '2', '0', '8', '9', '1', '6', '3', '7', '6', '3', '4', '8', '8',\n",
       "       '3', '3', '8', '2', '2', '7', '6', '8', '7', '8', '3', '7', '1',\n",
       "       '3', '0', '3', '1', '9', '2', '9', '5', '5', '2', '6', '5', '6',\n",
       "       '5', '0', '5', '9', '6', '8', '0', '8', '7', '9', '0', '5', '4',\n",
       "       '5', '0', '8', '7', '6', '3', '2', '6', '2', '6', '6', '1', '9',\n",
       "       '8', '9', '3', '6', '3', '1', '5', '9', '3', '8', '8', '1', '1',\n",
       "       '1', '4', '2', '7', '8', '9', '7', '1', '1', '4', '1', '4', '4',\n",
       "       '2', '4', '0', '1', '2', '4', '8', '0', '7', '6', '9', '8', '0',\n",
       "       '0', '2', '0', '3', '0', '8', '5', '1', '9', '4', '7', '5', '6',\n",
       "       '4', '0', '7', '6', '4', '9', '0', '3', '1', '0', '1', '3', '3',\n",
       "       '1', '3', '4', '4', '1', '1', '2', '9', '5', '4', '9', '1', '1',\n",
       "       '7', '6', '3', '5', '1', '1', '2', '5', '3', '3', '5', '8', '8',\n",
       "       '4', '8', '2', '7', '2', '7', '8', '0', '3', '7', '7', '0', '7',\n",
       "       '6', '3', '0', '9', '0', '8', '3', '9', '5', '9', '2', '4', '9',\n",
       "       '3', '7', '7', '8', '9', '4', '0', '0', '7', '7', '3', '2', '1',\n",
       "       '4', '4', '3', '1', '8', '0', '9', '1', '2', '7', '5', '6', '7',\n",
       "       '6', '3', '1', '4', '9', '7', '8', '8', '6', '9', '8', '1', '4',\n",
       "       '5', '5', '2', '5', '1', '5', '3', '1', '7', '8', '7', '6', '9',\n",
       "       '8', '9', '7', '9', '9', '2', '0', '4', '6', '6', '2', '3', '7',\n",
       "       '0', '1', '5', '1', '7', '0', '0', '2', '1', '3', '6', '4', '3',\n",
       "       '9', '1', '4', '0', '0', '0', '4', '1', '7', '4', '6', '9', '6',\n",
       "       '6', '3', '8', '9', '2', '6', '3', '8', '6', '4', '2', '7', '9',\n",
       "       '0', '6', '5', '8', '4', '2', '8', '1', '4', '5', '6', '7', '6',\n",
       "       '3', '0', '4', '7', '1', '6', '4', '1', '6', '0', '8', '3', '0',\n",
       "       '9', '2', '7', '6', '4', '3', '3', '7', '7', '1', '4', '1', '2',\n",
       "       '9', '6', '5', '4', '1', '5', '5', '9', '2', '7', '8', '7', '2',\n",
       "       '9', '5', '1', '4', '8', '3', '8', '9', '9', '7', '3', '7', '9',\n",
       "       '4', '2', '6', '8', '7', '9', '3', '2', '6', '0', '7', '9', '3',\n",
       "       '2', '0', '1', '3', '9', '2', '2', '2', '5', '0', '4', '6', '1',\n",
       "       '3', '7', '8', '6', '1', '7', '6', '3', '7', '8', '8', '7', '3',\n",
       "       '4', '7', '2', '8', '7', '4', '1', '4', '6', '7', '8', '8', '5',\n",
       "       '5', '4', '1', '0', '2', '7', '9', '2', '4', '9', '8'],\n",
       "      dtype=object)"
      ]
     },
     "execution_count": 31,
     "metadata": {},
     "output_type": "execute_result"
    }
   ],
   "source": [
    "%time clf.predict(X_test)"
   ]
  },
  {
   "cell_type": "code",
   "execution_count": 32,
   "metadata": {},
   "outputs": [
    {
     "name": "stdout",
     "output_type": "stream",
     "text": [
      "Wall time: 2min 48s\n"
     ]
    },
    {
     "name": "stderr",
     "output_type": "stream",
     "text": [
      "C:\\Users\\nikol\\Anaconda\\lib\\site-packages\\scipy\\stats\\stats.py:245: RuntimeWarning: The input array could not be properly checked for nan values. nan values will be ignored.\n",
      "  \"values. nan values will be ignored.\", RuntimeWarning)\n"
     ]
    },
    {
     "data": {
      "text/plain": [
       "array([['8', '8', '5', '1', '2', '4', '1', '9', '2', '6', '9', '6', '5',\n",
       "        '3', '5', '9', '0', '0', '6', '7', '7', '5', '0', '4', '1', '1',\n",
       "        '4', '3', '9', '0', '3', '4', '6', '3', '2', '2', '7', '3', '1',\n",
       "        '5', '3', '0', '1', '5', '4', '9', '0', '4', '2', '8', '6', '2',\n",
       "        '5', '1', '2', '6', '2', '8', '3', '0', '1', '1', '2', '5', '9',\n",
       "        '3', '0', '3', '5', '0', '8', '7', '6', '9', '1', '0', '6', '9',\n",
       "        '5', '2', '9', '0', '0', '1', '1', '0', '2', '7', '3', '3', '6',\n",
       "        '4', '6', '5', '2', '8', '7', '0', '9', '8', '8', '3', '5', '4',\n",
       "        '6', '0', '1', '8', '6', '9', '9', '7', '0', '0', '6', '0', '5',\n",
       "        '7', '2', '8', '1', '7', '3', '2', '9', '4', '2', '9', '4', '4',\n",
       "        '5', '4', '3', '3', '0', '1', '3', '7', '3', '5', '8', '5', '4',\n",
       "        '0', '3', '7', '5', '5', '2', '1', '4', '3', '6', '4', '0', '6',\n",
       "        '8', '7', '2', '6', '6', '6', '9', '1', '6', '3', '7', '2', '9',\n",
       "        '1', '7', '1', '2', '6', '5', '1', '6', '1', '0', '1', '0', '2',\n",
       "        '1', '2', '6', '5', '8', '5', '3', '4', '7', '4', '2', '6', '3',\n",
       "        '4', '6', '3', '5', '3', '2', '0', '3', '6', '1', '9', '3', '8',\n",
       "        '7', '4', '1', '3', '3', '0', '0', '3', '1', '9', '7', '5', '1',\n",
       "        '2', '8', '7', '0', '5', '1', '7', '2', '8', '2', '1', '6', '6',\n",
       "        '2', '5', '4', '0', '7', '3', '1', '1', '2', '4', '6', '8', '9',\n",
       "        '8', '0', '2', '4', '4', '4', '2', '7', '1', '1', '2', '5', '8',\n",
       "        '1', '7', '5', '0', '0', '2', '6', '3', '8', '9', '6', '2', '2',\n",
       "        '7', '9', '4', '0', '5', '8', '4', '7', '9', '4', '1', '3', '5',\n",
       "        '2', '0', '8', '9', '1', '6', '3', '7', '6', '3', '4', '8', '8',\n",
       "        '3', '3', '8', '2', '2', '7', '6', '8', '7', '8', '3', '7', '1',\n",
       "        '3', '0', '3', '1', '9', '2', '9', '5', '5', '2', '6', '5', '6',\n",
       "        '5', '0', '5', '9', '6', '8', '0', '8', '7', '9', '0', '5', '4',\n",
       "        '5', '0', '8', '7', '6', '3', '2', '6', '2', '6', '6', '1', '9',\n",
       "        '8', '9', '3', '6', '3', '1', '5', '9', '3', '8', '8', '1', '1',\n",
       "        '1', '4', '2', '7', '8', '9', '7', '1', '1', '4', '1', '4', '4',\n",
       "        '2', '4', '0', '1', '2', '4', '8', '0', '7', '6', '9', '8', '0',\n",
       "        '0', '2', '0', '3', '0', '8', '5', '1', '9', '4', '7', '5', '6',\n",
       "        '4', '0', '7', '6', '4', '9', '0', '3', '1', '0', '1', '3', '3',\n",
       "        '1', '3', '4', '4', '1', '1', '2', '9', '5', '4', '9', '1', '1',\n",
       "        '7', '6', '3', '5', '1', '1', '2', '5', '3', '3', '5', '8', '8',\n",
       "        '4', '8', '2', '7', '2', '7', '8', '0', '3', '7', '7', '0', '7',\n",
       "        '6', '3', '0', '9', '0', '8', '3', '9', '5', '9', '2', '4', '9',\n",
       "        '3', '7', '7', '8', '9', '4', '0', '0', '7', '7', '3', '2', '1',\n",
       "        '4', '4', '3', '1', '8', '0', '9', '1', '2', '7', '5', '6', '7',\n",
       "        '6', '3', '1', '4', '9', '7', '8', '8', '6', '9', '8', '1', '4',\n",
       "        '5', '5', '2', '5', '1', '5', '3', '1', '7', '8', '7', '6', '9',\n",
       "        '8', '9', '7', '9', '9', '2', '0', '4', '6', '6', '2', '3', '7',\n",
       "        '0', '1', '5', '1', '7', '0', '0', '2', '1', '3', '6', '4', '3',\n",
       "        '9', '1', '4', '0', '0', '0', '4', '1', '7', '4', '6', '9', '6',\n",
       "        '6', '3', '8', '9', '2', '6', '3', '8', '6', '4', '2', '7', '9',\n",
       "        '0', '6', '5', '8', '4', '2', '8', '1', '4', '5', '6', '7', '6',\n",
       "        '3', '0', '4', '7', '1', '6', '4', '1', '6', '0', '8', '3', '0',\n",
       "        '9', '2', '7', '6', '4', '3', '3', '7', '7', '1', '4', '1', '2',\n",
       "        '9', '6', '5', '4', '1', '5', '5', '9', '2', '7', '8', '7', '2',\n",
       "        '9', '5', '1', '4', '8', '3', '8', '9', '9', '7', '3', '7', '9',\n",
       "        '4', '2', '6', '8', '7', '9', '3', '2', '6', '0', '7', '9', '3',\n",
       "        '2', '0', '1', '3', '9', '2', '2', '2', '5', '0', '4', '6', '1',\n",
       "        '3', '7', '8', '6', '1', '7', '6', '3', '7', '8', '8', '7', '3',\n",
       "        '4', '7', '2', '8', '7', '4', '1', '4', '6', '7', '8', '8', '5',\n",
       "        '5', '4', '1', '0', '2', '7', '9', '2', '4', '9', '8']],\n",
       "      dtype=object)"
      ]
     },
     "execution_count": 32,
     "metadata": {},
     "output_type": "execute_result"
    }
   ],
   "source": [
    "%time my_clf.predict(X_test)"
   ]
  },
  {
   "cell_type": "code",
   "execution_count": 33,
   "metadata": {},
   "outputs": [
    {
     "name": "stdout",
     "output_type": "stream",
     "text": [
      "Wall time: 3min 30s\n"
     ]
    },
    {
     "data": {
      "text/plain": [
       "array([[0. , 0. , 0. , ..., 0. , 1. , 0. ],\n",
       "       [0. , 0. , 0. , ..., 0. , 1. , 0. ],\n",
       "       [0. , 0. , 0. , ..., 0. , 0. , 0. ],\n",
       "       ...,\n",
       "       [0. , 0. , 0. , ..., 0. , 0. , 0.5],\n",
       "       [0. , 0. , 0. , ..., 0. , 0. , 1. ],\n",
       "       [0. , 0. , 0. , ..., 0. , 1. , 0. ]])"
      ]
     },
     "execution_count": 33,
     "metadata": {},
     "output_type": "execute_result"
    }
   ],
   "source": [
    "%time clf.predict_proba(X_test)"
   ]
  },
  {
   "cell_type": "code",
   "execution_count": 34,
   "metadata": {},
   "outputs": [
    {
     "name": "stdout",
     "output_type": "stream",
     "text": [
      "Wall time: 2min 55s\n"
     ]
    },
    {
     "data": {
      "text/plain": [
       "array([[0. , 0. , 0. , ..., 0. , 1. , 0. ],\n",
       "       [0. , 0. , 0. , ..., 0. , 1. , 0. ],\n",
       "       [0. , 0. , 0. , ..., 0. , 0. , 0. ],\n",
       "       ...,\n",
       "       [0. , 0. , 0. , ..., 0. , 0. , 0.5],\n",
       "       [0. , 0. , 0. , ..., 0. , 0. , 1. ],\n",
       "       [0. , 0. , 0. , ..., 0. , 1. , 0. ]])"
      ]
     },
     "execution_count": 34,
     "metadata": {},
     "output_type": "execute_result"
    }
   ],
   "source": [
    "%time my_clf.predict_proba(X_test)"
   ]
  },
  {
   "cell_type": "code",
   "execution_count": 35,
   "metadata": {},
   "outputs": [
    {
     "data": {
      "text/plain": [
       "0.9742857142857143"
      ]
     },
     "execution_count": 35,
     "metadata": {},
     "output_type": "execute_result"
    }
   ],
   "source": [
    "clf.score(X_test, y_test)"
   ]
  },
  {
   "cell_type": "code",
   "execution_count": 36,
   "metadata": {},
   "outputs": [
    {
     "name": "stderr",
     "output_type": "stream",
     "text": [
      "C:\\Users\\nikol\\Anaconda\\lib\\site-packages\\scipy\\stats\\stats.py:245: RuntimeWarning: The input array could not be properly checked for nan values. nan values will be ignored.\n",
      "  \"values. nan values will be ignored.\", RuntimeWarning)\n"
     ]
    },
    {
     "data": {
      "text/plain": [
       "0.9742857142857143"
      ]
     },
     "execution_count": 36,
     "metadata": {},
     "output_type": "execute_result"
    }
   ],
   "source": [
    "my_clf.score(X_test, y_test)"
   ]
  },
  {
   "cell_type": "markdown",
   "metadata": {},
   "source": [
    "Задание 5"
   ]
  },
  {
   "cell_type": "code",
   "execution_count": null,
   "metadata": {},
   "outputs": [],
   "source": [
    "# seaborn\n",
    "# Библиотека для визуализации данных основанная на mathplotlib\n",
    "# matplotlib\n",
    "# библиотека для построения графиков и визуализации данных\n",
    "# train_test_split\n",
    "# разделяет данные на тестовую и трениировочную выборку для проверки качества модели\n",
    "# Pipelin%load_ext e (from sklearn.pipeline import Pipeline)\n",
    "# Класс для работы и преобразования текстовых данных \n",
    "# StandardScaler (from sklearn.preprocessing import StandardScaler)\n",
    "# Класс для подготовки данных, должен нормализовать/стандартизировать данные(mean = 0 и standard deviation = 1)\n",
    "# ClassifierMixin\n",
    "# Смешанный(родительский) класс для всех классификаторов sklern иницилизирует себя и может посчитать score\n",
    "# NeighborsBase\n",
    "# Смешанный(родительский) класс для всех классификаторов типа к ближайших соседей sklern\n",
    "# KNeighborsMixin\n",
    "# Смешанный(родительский) класс для всех классификаторов типа к ближайших соседей sklern имеет метод knn\n",
    "# SupervisedIntegerMixin\n",
    "# Смешанный(родительский) класс для всех классификаторов sklern имеет метод fit"
   ]
  }
 ],
 "metadata": {
  "kernelspec": {
   "display_name": "Python 3",
   "language": "python",
   "name": "python3"
  },
  "language_info": {
   "codemirror_mode": {
    "name": "ipython",
    "version": 3
   },
   "file_extension": ".py",
   "mimetype": "text/x-python",
   "name": "python",
   "nbconvert_exporter": "python",
   "pygments_lexer": "ipython3",
   "version": "3.7.1"
  }
 },
 "nbformat": 4,
 "nbformat_minor": 2
}
